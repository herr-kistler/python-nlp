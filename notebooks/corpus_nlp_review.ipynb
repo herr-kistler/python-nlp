{
 "cells": [
  {
   "cell_type": "markdown",
   "metadata": {},
   "source": [
    "Corpus NLP Review"
   ]
  },
  {
   "cell_type": "markdown",
   "metadata": {},
   "source": [
    "1) What are the 10 most frequent word trigrams (including punctuation) in the Brown corpus?"
   ]
  },
  {
   "cell_type": "code",
   "execution_count": 6,
   "metadata": {},
   "outputs": [
    {
     "name": "stdout",
     "output_type": "stream",
     "text": [
      "[((\"''\", '?', '?'), 915), ((\"''\", '.', '``'), 702), ((',', 'and', 'the'), 652), (('.', 'It', 'is'), 529), (('.', 'It', 'was'), 518), (('.', 'In', 'the'), 398), (('?', '?', '``'), 381), (('.', '``', 'I'), 359), ((\"''\", '!', '!'), 350), ((\"''\", ',', 'he'), 346)]\n"
     ]
    }
   ],
   "source": [
    "from nltk.util import ngrams\n",
    "from nltk import FreqDist\n",
    "from nltk.corpus import brown\n",
    "\n",
    "trigrams = ngrams(brown.words(), 3)\n",
    "fdist = FreqDist(trigrams)\n",
    "topten = fdist.most_common(10)\n",
    "print(topten)"
   ]
  },
  {
   "cell_type": "markdown",
   "metadata": {},
   "source": [
    "2) Find all the words which occur at least 250 times in the Brown corpus but do not occur at all in Moby Dick. For this problem, you should normalize both corpora by removing all punctuation and folding everything to lower case."
   ]
  },
  {
   "cell_type": "code",
   "execution_count": 7,
   "metadata": {},
   "outputs": [
    {
     "name": "stdout",
     "output_type": "stream",
     "text": [
      "['program', '1', '2', 'mrs.', 'toward', 'members', \"didn't\", \"i'm\", '3', 'mr.', \"don't\", 'af']\n"
     ]
    }
   ],
   "source": [
    "from nltk.corpus import gutenberg\n",
    "import string\n",
    "\n",
    "punctuations = list(string.punctuation)\n",
    "additional_punc = ['``',\"''\",'--']\n",
    "\n",
    "brown_fdist = FreqDist(brown.words())\n",
    "brown_common_words = [w.lower() for w in brown_fdist if brown_fdist[w] > 249 and w.isalpha and w not in punctuations and w not in additional_punc]\n",
    "\n",
    "moby = gutenberg.words('melville-moby_dick.txt')\n",
    "moby_common_words = [w.lower() for w in moby if w.isalpha() and w not in punctuations]\n",
    "\n",
    "brown_unique_words = [w for w in brown_common_words if w not in moby_common_words]\n",
    "print(brown_unique_words)"
   ]
  },
  {
   "cell_type": "markdown",
   "metadata": {},
   "source": [
    "3) Find the words in nltk.corpus.words.words() that have the longest sequence of consonants. For example, strengths has 5 consonants in a row: 𝑛, 𝑔, 𝑡, h, and 𝑠. Are there any longer se- quences? For the purposes of this question, you should consider 𝑦 to be a vowel."
   ]
  },
  {
   "cell_type": "code",
   "execution_count": 3,
   "metadata": {},
   "outputs": [
    {
     "name": "stdout",
     "output_type": "stream",
     "text": [
      "best sequence =  glycyphyll\n",
      "10 sequential consonants!\n",
      "word =  glycyphyllin\n"
     ]
    }
   ],
   "source": [
    "from nltk.corpus import words\n",
    "import string\n",
    "import re\n",
    "from itertools import groupby\n",
    "is_vowel = lambda char: char in \"aAeEiIoOuU\"\n",
    "best_conso_chains = []\n",
    "def consoFind(in_str):\n",
    "    consos = [\"\".join(g) for v, g in groupby(in_str, key=is_vowel) if not v]\n",
    "    sortedconsos = sorted(consos, key=len)\n",
    "    best = sortedconsos[-1]\n",
    "    return best\n",
    "\n",
    "#vowels used in joining to avoid flaws in how punctuation is read\n",
    "strwords = 'A, A'.join(words.words())\n",
    "best_conso_seq = consoFind(strwords)\n",
    "print(\"best sequence = \", best_conso_seq)\n",
    "print(len(best_conso_seq), \"sequential consonants!\")\n",
    "for word in words.words():\n",
    "    if best_conso_seq in word:\n",
    "        print(\"word = \", word)\n"
   ]
  },
  {
   "cell_type": "markdown",
   "metadata": {},
   "source": [
    "4) The Coleman-Liau Index (see https://en.wikipedia.org/wiki/Coleman-Liau_index) is a measure of text readability, de ined as:\n",
    "𝐶𝐿𝐼 = 0.0588 × 𝐿 − 0.296 × 𝑆 − 15.8\n",
    "where 𝐿 is the average number of letters in the text per 100 words and 𝑆 is the average number of sentences per 100 words (skipping punctuation). Write a function which calculates the 𝐶𝐿𝐼 for a text, and print a table showing the readability level of Presidential inaugural addresses by year. (For extra credit, also show the results as a graph!)"
   ]
  },
  {
   "cell_type": "code",
   "execution_count": 4,
   "metadata": {},
   "outputs": [],
   "source": [
    "\n",
    "from nltk.tokenize import word_tokenize, sent_tokenize\n",
    "\n",
    "def CLIreadability(text):\n",
    " \n",
    "    tokenizer = nltk.data.load('tokenizers/punkt/english.pickle')\n",
    "    text = ('\\n-----\\n'.join(tokenizer.tokenize(text)))\n",
    "  \n",
    "    num_chars = len([char for char in text])\n",
    "    #num_letters could be a refinement for accuracy\n",
    "    num_words = len(word_tokenize(text))\n",
    "    num_sents = len(sent_tokenize(text))\n",
    "    \n",
    "    L = num_chars/num_words*100\n",
    "    S = num_sents/num_words*100\n",
    "    #print(L, S)\n",
    "    \n",
    "    return 0.0588 * L - 0.296 * S - 15.8\n"
   ]
  },
  {
   "cell_type": "code",
   "execution_count": 5,
   "metadata": {},
   "outputs": [
    {
     "name": "stdout",
     "output_type": "stream",
     "text": [
      "    date  CLIreadability\n",
      "0   1789       15.849357\n",
      "1   1793       13.745641\n",
      "2   1797       14.613001\n",
      "3   1801       13.417721\n",
      "4   1805       14.466916\n",
      "5   1809       15.395095\n",
      "6   1813       14.364979\n",
      "7   1817       13.269478\n",
      "8   1821       13.681032\n",
      "9   1825       15.273858\n",
      "10  1829       15.543844\n",
      "11  1833       14.979748\n",
      "12  1837       15.286123\n",
      "13  1841       14.273482\n",
      "14  1845       14.233210\n",
      "15  1849       15.520129\n",
      "16  1853       14.223242\n",
      "17  1857       13.822932\n",
      "18  1861       12.399427\n",
      "19  1865       11.335550\n",
      "20  1869       12.668627\n",
      "21  1873       12.712070\n",
      "22  1877       14.736800\n",
      "23  1881       13.816305\n",
      "24  1885       14.878337\n",
      "25  1889       13.967610\n",
      "26  1893       15.763297\n",
      "27  1897       13.650295\n",
      "28  1901       13.184357\n",
      "29  1905       12.149388\n",
      "30  1909       14.331701\n",
      "31  1913       11.267395\n",
      "32  1917       11.286536\n",
      "33  1921       12.950221\n",
      "34  1925       12.408008\n",
      "35  1929       13.875032\n",
      "36  1933       12.036853\n",
      "37  1937       11.731459\n",
      "38  1941       10.051187\n",
      "39  1945        9.440113\n",
      "40  1949       12.494260\n",
      "41  1953       10.706246\n",
      "42  1957        9.094617\n",
      "43  1961       10.671203\n",
      "44  1965        8.513056\n",
      "45  1969        9.287490\n",
      "46  1973       10.844332\n",
      "47  1977       10.708960\n",
      "48  1981        9.888364\n",
      "49  1985       10.358370\n",
      "50  1989        8.050722\n",
      "51  1993       10.037737\n",
      "52  1997       10.163781\n",
      "53  2001        9.486239\n",
      "54  2005       11.564527\n",
      "55  2009       10.438150\n"
     ]
    },
    {
     "data": {
      "image/png": "[encoded data removed]",
      "text/plain": [
       "<matplotlib.figure.Figure at 0x11bc3feb8>"
      ]
     },
     "metadata": {},
     "output_type": "display_data"
    }
   ],
   "source": [
    "import nltk\n",
    "import pandas as pd\n",
    "from nltk.corpus import inaugural\n",
    "import matplotlib.pyplot as plt\n",
    "\n",
    "pairlist = []\n",
    "\n",
    "for fileid in inaugural.fileids():\n",
    "    #print(fileid)\n",
    "    raw = inaugural.raw(fileid)\n",
    "    cli = CLIreadability(raw)\n",
    "    #print(cli)\n",
    "    pair = (fileid[:4], cli)\n",
    "    pairlist.append(pair)\n",
    "    \n",
    "#print(pairlist)\n",
    "df = pd.DataFrame(pairlist, columns=['date','CLIreadability'])\n",
    "print(df)\n",
    "\n",
    "ax = df[['CLIreadability']].plot(kind='bar', title =\"Inaugural CLI Readability\", figsize=(15, 10), legend=True, fontsize=12)\n",
    "ax.set_xlabel(\"Increment of Years (by 2) since 1789\")\n",
    "ax.set_ylabel(\"CLI Readability Rating\")\n",
    "plt.show()"
   ]
  },
  {
   "cell_type": "code",
   "execution_count": null,
   "metadata": {
    "collapsed": true
   },
   "outputs": [],
   "source": []
  },
  {
   "cell_type": "code",
   "execution_count": null,
   "metadata": {
    "collapsed": true
   },
   "outputs": [],
   "source": []
  }
 ],
 "metadata": {
  "kernelspec": {
   "display_name": "Python 3",
   "language": "python",
   "name": "python3"
  },
  "language_info": {
   "codemirror_mode": {
    "name": "ipython",
    "version": 3
   },
   "file_extension": ".py",
   "mimetype": "text/x-python",
   "name": "python",
   "nbconvert_exporter": "python",
   "pygments_lexer": "ipython3",
   "version": "3.6.5"
  }
 },
 "nbformat": 4,
 "nbformat_minor": 2
}
