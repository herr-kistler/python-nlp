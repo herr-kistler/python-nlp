{
 "cells": [
  {
   "cell_type": "markdown",
   "metadata": {},
   "source": [
    "# Regular Expression Review"
   ]
  },
  {
   "cell_type": "markdown",
   "metadata": {},
   "source": [
    "## How to construct and debug regular expressions"
   ]
  },
  {
   "cell_type": "markdown",
   "metadata": {},
   "source": [
    "The next cell defines a large html string that we will use to test some of regular expressions.  When writing a program that is going to depend on accurately extracting instances of certain patterns from text or HTML, you need to create the regular expressions first, testing them on realistic example strings.  You need your expressions to do two things:\n",
    "\n",
    "1. Match the strings you trying to extract, and possibly some context around them, to guarantee you\n",
    "   are extracting the right information;\n",
    "2. If your expression matches context as well as the information you are trying to extract,\n",
    "   (and often it will have to) you need to identify the target part of  the expression.  This is done by placing the target part of \n",
    "   the pattern in parentheses (illustrated below).\n",
    "   \n",
    "The homework assignment asks you to extract the baby name year in the html file.  The line containing the relevant information looks like this\n",
    "     \n",
    "     <h3 align=\"center\">Popularity in 1990</h3>\n",
    "     \n",
    "One regular expression that will match the year is the following:\n",
    "\n",
    "       '\\d\\d\\d\\d'\n",
    "\n",
    "The code below tries out this idea.  Evaluate it and report on the  success of the idea in the markdown cell below the code cell.  "
   ]
  },
  {
   "cell_type": "code",
   "execution_count": 1,
   "metadata": {},
   "outputs": [
    {
     "name": "stdout",
     "output_type": "stream",
     "text": [
      "8601\n",
      "2005\n",
      "2005\n"
     ]
    }
   ],
   "source": [
    "import re\n",
    "\n",
    "html_string = \"\"\"\n",
    "<head><title>Popular Baby Names</title>\n",
    "<meta name=\"dc.language\" scheme=\"ISO639-2\" content=\"eng\">\n",
    "<meta name=\"dc.creator\" content=\"OACT\">\n",
    "<meta name=\"lead_content_manager\" content=\"JeffK\">\n",
    "<meta name=\"coder\" content=\"JeffK\">\n",
    "<meta name=\"dc.date.reviewed\" scheme=\"ISO8601\" content=\"2005-12-30\">\n",
    "<link rel=\"stylesheet\" href=\"../OACT/templatefiles/master.css\" type=\"text/css\" media=\"screen\">\n",
    "<link rel=\"stylesheet\" href=\"../OACT/templatefiles/custom.css\" type=\"text/css\" media=\"screen\">\n",
    "<link rel=\"stylesheet\" href=\"../OACT/templatefiles/print.css\" type=\"text/css\" media=\"print\">\n",
    "</head>\n",
    "<body bgcolor=\"#ffffff\" text=\"#000000\" topmargin=\"1\" leftmargin=\"0\">\n",
    "<table width=\"100%\" border=\"0\" cellspacing=\"0\" cellpadding=\"4\">\n",
    "  <tbody>\n",
    "  <tr><td class=\"sstop\" valign=\"bottom\" align=\"left\" width=\"25%\">\n",
    "      Social Security Online\n",
    "    </td><td valign=\"bottom\" class=\"titletext\">\n",
    "      <!-- sitetitle -->Popular Baby Names\n",
    "    </td>\n",
    "  </tr>\n",
    "  <tr bgcolor=\"#333366\"><td colspan=\"2\" height=\"2\"></td></tr>\n",
    "  <tr><td class=\"graystars\" width=\"25%\" valign=\"top\">\n",
    "       <a href=\"../OACT/babynames/\">Popular Baby Names</a></td><td valign=\"top\"> \n",
    "      <a href=\"http://www.ssa.gov/\"><img src=\"/templateimages/tinylogo.gif\"\n",
    "      width=\"52\" height=\"47\" align=\"left\"\n",
    "      alt=\"SSA logo: link to Social Security home page\" border=\"0\"></a><a name=\"content\"></a>\n",
    "      <h1>Popular Names by Birth Year</h1>September 12, 2007</td>\n",
    "  </tr>\n",
    "  <tr bgcolor=\"#333366\"><td colspan=\"2\" height=\"1\"></td></tr>\n",
    "</tbody></table>\n",
    "<table width=\"100%\" border=\"0\" cellspacing=\"0\" cellpadding=\"4\" summary=\"formatting\">\n",
    "  <tr valign=\"top\"><td width=\"25%\" class=\"greycell\">\n",
    "      <a href=\"../OACT/babynames/background.html\">Background information</a>\n",
    "      <p><br />\n",
    "      &nbsp; Select another <label for=\"yob\">year of birth</label>?<br />      \n",
    "      <form method=\"post\" action=\"/cgi-bin/popularnames.cgi\">\n",
    "      &nbsp; <input type=\"text\" name=\"year\" id=\"yob\" size=\"4\" value=\"1990\">\n",
    "      <input type=\"hidden\" name=\"top\" value=\"1000\">\n",
    "      <input type=\"hidden\" name=\"number\" value=\"\">\n",
    "      &nbsp; <input type=\"submit\" value=\"   Go  \"></form>\n",
    "    </td><td>\n",
    "<h3 align=\"center\">Popularity in 1990</h3>\n",
    "<p align=\"center\">\n",
    "\"\"\"\n",
    "re1 = r'\\d\\d\\d\\d'\n",
    "re1_revised = r'[12]\\d\\d\\d'\n",
    "match = re.search(re1,html_string)\n",
    "match_two = re.search(re1_revised,html_string)\n",
    "# match object tells you positions in string where match begins and ends (match.start() and match.end()).  \n",
    "# Let's look at  this span\n",
    "\n",
    "#match = None\n",
    "#match_two = None\n",
    "if match:\n",
    "   print html_string[match.start():match.end()]\n",
    "if match_two:\n",
    "   print html_string[match_two.start():match_two.end()]\n",
    "   print match_two.group()"
   ]
  },
  {
   "cell_type": "markdown",
   "metadata": {},
   "source": [
    "Discuss how well this regular expresion worked at extracting the year. If it failed, explain why.\n",
    "You may edit this cell.\n",
    "\n",
    "    The first expression 'match' only matched the first 4 sequential digits in the html_string, giving the incorrect return of '8601' which actually refers to the ISO number. The second expression 'match_two' only matched the first 4 digit number that started with a '1' or '2' giving a result of '2005' which is an attribute of the metadata date. In order to distinguish the correct digit sequence, you must indicate the preceding determiner to the correct year, thus using r'Popularity in ([1-3][0-9]{3})'.\n",
    "\n",
    "This exercise should have convinced you needed to amend the regular expression to provide some contexts; 4 digits in a row, even if the first is required to be 1 or 2, won't do it.  In the next cell, define and test a new regular expression that does\n",
    "the job. You may want to try some of the exercises in the following sections first, to get some practice with regular expressions."
   ]
  },
  {
   "cell_type": "code",
   "execution_count": 2,
   "metadata": {},
   "outputs": [
    {
     "name": "stdout",
     "output_type": "stream",
     "text": [
      "Popularity in 1990\n",
      "1990\n"
     ]
    }
   ],
   "source": [
    "# Simplified expression:\n",
    "# re.search(r\"Popularity in ([1-3][0-9]{3})\", html_string).group(1)\n",
    "\n",
    "rel_improved = r'Popularity in ([1-3][0-9]{3})'\n",
    "match_three = re.search(rel_improved, html_string)\n",
    "if match_three:\n",
    "    print html_string[match_three.start():match_three.end()]\n",
    "    print match_three.group(1)"
   ]
  },
  {
   "cell_type": "markdown",
   "metadata": {},
   "source": [
    "For the next html string, you want to find ALL the triples of the form RANK, MALE NAME, FEMALE NAME.\n",
    "Your output should look like this:\n",
    "\n",
    "   [('1', 'Jacob', 'Emma'), ('2', 'Michael', 'Isabella'), ('3', 'Ethan', 'Emily')]\n",
    "   \n",
    "You can get this using `re.findall`.  The next cell gives you a pretty helpful example of how to use it."
   ]
  },
  {
   "cell_type": "code",
   "execution_count": 3,
   "metadata": {},
   "outputs": [
    {
     "data": {
      "text/plain": [
       "(['<tr align=\"right\"><td>1</td>',\n",
       "  '<tr align=\"right\"><td>2</td>',\n",
       "  '<tr align=\"right\"><td>3</td>'],\n",
       " ['1', '2', '3'])"
      ]
     },
     "execution_count": 3,
     "metadata": {},
     "output_type": "execute_result"
    }
   ],
   "source": [
    "import re\n",
    "html_str2 = \"\"\"<tr align=\"center\" valign=\"bottom\">\n",
    "  <th scope=\"col\" width=\"12%\" bgcolor=\"#efefef\">Rank</th>\n",
    "  <th scope=\"col\" width=\"41%\" bgcolor=\"#99ccff\">Male name</th>\n",
    "<th scope=\"col\" bgcolor=\"pink\" width=\"41%\">Female name</th></tr>\n",
    "<tr align=\"right\"><td>1</td><td>Jacob</td><td>Emma</td>\n",
    "</tr>\n",
    "<tr align=\"right\"><td>2</td><td>Michael</td><td>Isabella</td>\n",
    "</tr>\n",
    "<tr align=\"right\"><td>3</td><td>Ethan</td><td>Emily</td>\n",
    "</tr>\"\"\"\n",
    "res1 = re.findall(r'<tr\\s+.+><td>\\d+</td>',html_str2)\n",
    "res2 = re.findall(r'<tr\\s+.+><td>(\\d+)</td>',html_str2)\n",
    "\n",
    "(res1, res2)\n",
    "                "
   ]
  },
  {
   "cell_type": "markdown",
   "metadata": {},
   "source": [
    "Notice the very different results you get with very similar `findall` requests.  The function `findall` is written so as to retrieve the **groups** in your regular expression. The groups in your regular expression are defined by parentheses.  If there are no groups (no parentheses), `findall` returns a list of complete matches.  So the first result above is what you get for a regular expression with no groups, and the second is what you get for a regular expression with one group.  If your regular expression contains multiple groups, you get a list of tuples.  Each tuple member corresponds to one group in the pattern.  Since you're being asked for a result that is a list of triples, you want a regular expression with 3 groups."
   ]
  },
  {
   "cell_type": "code",
   "execution_count": 4,
   "metadata": {},
   "outputs": [
    {
     "name": "stdout",
     "output_type": "stream",
     "text": [
      "[('1', 'Jacob', 'Emma'), ('2', 'Michael', 'Isabella'), ('3', 'Ethan', 'Emily')]\n"
     ]
    }
   ],
   "source": [
    "res3 = re.findall(r'<tr\\s+.+><td>(\\d+)</td><td>(\\w+)</td><td>(\\w+)</td>',html_str2)\n",
    "print res3"
   ]
  },
  {
   "cell_type": "markdown",
   "metadata": {},
   "source": [
    "## Solving crosswords (requires NLTK)"
   ]
  },
  {
   "cell_type": "markdown",
   "metadata": {},
   "source": [
    "The following example is adapted from [the NLTK Book, Ch. 3.](http://www.nltk.org/book/ch03.html)\n",
    "\n",
    "Let's say we're in the midst of doing a cross word puzzle and we need an 8-letter word\n",
    "whose third letter is *j* and whose sixth letter is *t* which means\n",
    "*sad*.    We want\n",
    "words that match the following regular expression pattern::\n",
    "\n",
    "   '^..j..t..$'\n",
    "\n",
    "Notice that this specifies a string of exactly 8 characters because\n",
    "of the `^` and the `$`, which mark the beginning\n",
    "and ending of the string, respectively.  Each `.` is a wildcard\n",
    "which matches exactly one character but will match any character.\n"
   ]
  },
  {
   "cell_type": "code",
   "execution_count": 5,
   "metadata": {},
   "outputs": [
    {
     "data": {
      "text/plain": [
       "[u'abjectly',\n",
       " u'adjuster',\n",
       " u'dejected',\n",
       " u'dejectly',\n",
       " u'injector',\n",
       " u'majestic',\n",
       " u'objectee',\n",
       " u'objector',\n",
       " u'rejecter',\n",
       " u'rejector',\n",
       " u'unjilted',\n",
       " u'unjolted',\n",
       " u'unjustly']"
      ]
     },
     "execution_count": 5,
     "metadata": {},
     "output_type": "execute_result"
    }
   ],
   "source": [
    "import re\n",
    "from nltk.corpus import words\n",
    "wds = words.words()\n",
    "len(wds)\n",
    "235786\n",
    "cands = [w for w in wds if re.search('^..j..t..$',w)]\n",
    "cands\n"
   ]
  },
  {
   "cell_type": "markdown",
   "metadata": {},
   "source": [
    "And now we check our list and there it is: *dejected*.\n",
    "Will you ever be stumped by a crossword puzzle again?"
   ]
  },
  {
   "cell_type": "markdown",
   "metadata": {},
   "source": [
    "## Textonyms"
   ]
  },
  {
   "cell_type": "markdown",
   "metadata": {},
   "source": [
    "The [NLTK Book, Ch. 3](http://www.nltk.org/book/ch03.html>)introduces the following\n",
    "concept of **textonym** with this definition:\n",
    "\n",
    "   The T9 system is used for entering text on mobile phones: Two or more words that are \n",
    "   entered with the same sequence of keystrokes are known as textonyms. For example, \n",
    "   both *hole* and *golf* are entered by pressing the sequence `4653`. What other words could \n",
    "   be produced with the same sequence? \n",
    "\n",
    "   Here we  could use the regular expression `'^[ghi][mno][jlk][def]$'`.  \n",
    "\n",
    "    >>> [w for w in wds if re.search('^[ghi][mno][jlk][def]$', w)]\n",
    "    ['gold', 'golf', 'hold', 'hole']\n",
    "\n",
    "Try the following.  Find all words that can be spelled out with the sequence\n",
    "`3456`."
   ]
  },
  {
   "cell_type": "code",
   "execution_count": 6,
   "metadata": {},
   "outputs": [
    {
     "data": {
      "text/plain": [
       "[u'dilo', u'film', u'filo']"
      ]
     },
     "execution_count": 6,
     "metadata": {},
     "output_type": "execute_result"
    }
   ],
   "source": [
    "[w for w in wds if re.search('^[def][ghi][jkl][mno]$', w)]"
   ]
  },
  {
   "cell_type": "code",
   "execution_count": 7,
   "metadata": {},
   "outputs": [
    {
     "data": {
      "text/plain": [
       "[u'gold', u'golf', u'hold', u'hole', u'gold', u'hole']"
      ]
     },
     "execution_count": 7,
     "metadata": {},
     "output_type": "execute_result"
    }
   ],
   "source": [
    "[w for w in wds if re.search('^[ghi][mno][jlk][def]$', w)]"
   ]
  },
  {
   "cell_type": "markdown",
   "metadata": {},
   "source": [
    "## Regular expression practice"
   ]
  },
  {
   "cell_type": "code",
   "execution_count": 8,
   "metadata": {},
   "outputs": [
    {
     "data": {
      "text/plain": [
       "<_sre.SRE_Match at 0x11154ebf8>"
      ]
     },
     "execution_count": 8,
     "metadata": {},
     "output_type": "execute_result"
    }
   ],
   "source": [
    "import re\n",
    "pat = r'a|b|c'\n",
    "pat2 = r'[abc]'\n",
    "re.match(pat2,'b')"
   ]
  },
  {
   "cell_type": "markdown",
   "metadata": {},
   "source": [
    "Edit this cell and after each regular expression, describe the class of strings it matches.  Check your answer examining the output of the code cell that follows.\n",
    "\n",
    "1.  [a-zA-Z]+\n",
    "    A series of one or more uppercase and/or lowercase letters.\n",
    "    \n",
    "2.  [A-Z][a-z]*\n",
    "    An uppercase letter followed zero or more lowercase letters.\n",
    "\n",
    "3.  \\d+(\\.\\d+)?\n",
    "    This matches a string following a series of digits, which will contain a '.' and then a series of digits , essentially including the decimal and one or more digits to the right of the decimal. \n",
    "\n",
    "4.  ([bcdfghjklmnpqrstvwxyz][aeiou][bcdfghjklmnpqrstvwxyz])*\n",
    "    This matches a lowercase consonant followed by a lowercase vowel followed by a consonant, which can all occur in sequence zero or more times. \n",
    "\n",
    "\n",
    "5.  \\w+|[^\\w\\s]+ \n",
    "    This matches one or more alphanumeric characters in a series OR a series of non-alphanumeric and non-whitespace characters.\n"
   ]
  },
  {
   "cell_type": "code",
   "execution_count": 9,
   "metadata": {},
   "outputs": [
    {
     "name": "stdout",
     "output_type": "stream",
     "text": [
      "\n",
      "re2 [a-zA-Z]+\n",
      "=============\n",
      "\n",
      "   1. abracadabra                                    abracadabra\n",
      "   2. 1billygoat                                     None\n",
      "   3. billygoat1                                     billygoat\n",
      "   4. 43.1789                                        None\n",
      "   5. 43.                                            None\n",
      "   6. 43                                             None\n",
      "   7. road_runner                                    road\n",
      "   8.  road_runner                                   None\n",
      "   9. bathos                                         bathos\n",
      "  10. The little dog laughed to see such a sight.    The\n",
      "  11. socrates                                       socrates\n",
      "  12. Socrates                                       Socrates\n",
      "  13. *&%#!?                                         None\n",
      "  14. IBM                                            IBM\n",
      "\n",
      "re3 [A-Z][a-z]+\n",
      "===============\n",
      "\n",
      "   1. abracadabra                                    None\n",
      "   2. 1billygoat                                     None\n",
      "   3. billygoat1                                     None\n",
      "   4. 43.1789                                        None\n",
      "   5. 43.                                            None\n",
      "   6. 43                                             None\n",
      "   7. road_runner                                    None\n",
      "   8.  road_runner                                   None\n",
      "   9. bathos                                         None\n",
      "  10. The little dog laughed to see such a sight.    The\n",
      "  11. socrates                                       None\n",
      "  12. Socrates                                       Socrates\n",
      "  13. *&%#!?                                         None\n",
      "  14. IBM                                            None\n",
      "\n",
      "re4 \\d+(\\.\\d+)?\n",
      "===============\n",
      "\n",
      "   1. abracadabra                                    None\n",
      "   2. 1billygoat                                     1\n",
      "   3. billygoat1                                     None\n",
      "   4. 43.1789                                        43.1789\n",
      "   5. 43.                                            43\n",
      "   6. 43                                             43\n",
      "   7. road_runner                                    None\n",
      "   8.  road_runner                                   None\n",
      "   9. bathos                                         None\n",
      "  10. The little dog laughed to see such a sight.    None\n",
      "  11. socrates                                       None\n",
      "  12. Socrates                                       None\n",
      "  13. *&%#!?                                         None\n",
      "  14. IBM                                            None\n",
      "\n",
      "re5 ([bcdfghjklmnpqrstvwxyz][aeiou][bcdfghjklmnpqrstvwxyz])*\n",
      "============================================================\n",
      "\n",
      "   1. abracadabra                                    \n",
      "   2. 1billygoat                                     \n",
      "   3. billygoat1                                     bil\n",
      "   4. 43.1789                                        \n",
      "   5. 43.                                            \n",
      "   6. 43                                             \n",
      "   7. road_runner                                    \n",
      "   8.  road_runner                                   \n",
      "   9. bathos                                         bathos\n",
      "  10. The little dog laughed to see such a sight.    \n",
      "  11. socrates                                       socrat\n",
      "  12. Socrates                                       \n",
      "  13. *&%#!?                                         \n",
      "  14. IBM                                            \n",
      "\n",
      "re6 \\w+|[^\\w\\s]+\n",
      "================\n",
      "\n",
      "   1. abracadabra                                    abracadabra\n",
      "   2. 1billygoat                                     1billygoat\n",
      "   3. billygoat1                                     billygoat1\n",
      "   4. 43.1789                                        43\n",
      "   5. 43.                                            43\n",
      "   6. 43                                             43\n",
      "   7. road_runner                                    road_runner\n",
      "   8.  road_runner                                   None\n",
      "   9. bathos                                         bathos\n",
      "  10. The little dog laughed to see such a sight.    The\n",
      "  11. socrates                                       socrates\n",
      "  12. Socrates                                       Socrates\n",
      "  13. *&%#!?                                         *&%#!?\n",
      "  14. IBM                                            IBM\n"
     ]
    }
   ],
   "source": [
    "########################################\n",
    "###     Some regular expressions     ###\n",
    "########################################\n",
    "\n",
    "re2 = r'[a-zA-Z]+'\n",
    "re3 = r'[A-Z][a-z]+'\n",
    "re4 = r'\\d+(\\.\\d+)?'\n",
    "re5 = r'([bcdfghjklmnpqrstvwxyz][aeiou][bcdfghjklmnpqrstvwxyz])*'\n",
    "re6 = r'\\w+|[^\\w\\s]+'\n",
    "res = [re2,re3,re4,re5,re6]\n",
    "\n",
    "########################################\n",
    "###     Some example strings         ###\n",
    "########################################\n",
    "\n",
    "example1 = 'abracadabra'\n",
    "example2 = '1billygoat'\n",
    "example3 = 'billygoat1'\n",
    "example4 = '43.1789'\n",
    "example5 = '43.'\n",
    "example6 = '43'\n",
    "example7 = 'road_runner'\n",
    "example8 = ' road_runner'\n",
    "example9 = 'bathos'\n",
    "example10 = \"The little dog laughed to see such a sight.\"\n",
    "example11 = 'socrates'\n",
    "example12 = 'Socrates'\n",
    "example13 = '*&%#!?'\n",
    "example14 = 'IBM'\n",
    "\n",
    "examples = [example1,example2,example3,example4,example5,example6,\n",
    "            example7,example8,example9,example10,example11,example12,example13,\n",
    "            example14]\n",
    "\n",
    "########################################\n",
    "###     Trying some matches          ###\n",
    "########################################\n",
    "\n",
    "for i,re_pat in enumerate(res):\n",
    "    banner = 're%d %s' % (i+2,re_pat)\n",
    "    print \n",
    "    print banner\n",
    "    print '=' * len(banner)\n",
    "    print\n",
    "    for (i,ex) in enumerate(examples):\n",
    "        match = re.match(re_pat,ex)\n",
    "        if match:\n",
    "            print '  %2d. %-45s  %s' % (i+1,ex,ex[match.start():match.end()])\n",
    "        else:\n",
    "            print '  %2d. %-45s  %s' %(i+1,ex,None)\n",
    "            "
   ]
  },
  {
   "cell_type": "markdown",
   "metadata": {},
   "source": [
    "Make sure you can answer the following questions about the results of testing these regular expressions on the examples:\n",
    "\n",
    "1. Why does `re2` fail on `example8`?\n",
    "    It starts with a whitespace in its character series. \n",
    "\n",
    "2. Why does `re3` only succeed on `example10` and `example12`?  Be sure to explain why it fails on `example14`.\n",
    "    The series must begin with an uppercase letter followed by one or more lower case letters. 'example14' fails still since the uppercase letter is followed by another uppercase letter, instead of a series of lowercase letters. \n",
    "   \n",
    "3. When 're4' matches 'example5', why isn't the decimal point part of the match?\n",
    "    The decimal must be followed by a series of digits for it to be included, since the '?' character determines that that part of the match can occur either zero or one time, meaning it can either include the prior digits and both the decimal and its following digits, or just the digits prior to the decimal without the decimal included in the match. \n",
    "\n",
    "4. All of the regular expressions except `re5` report a `None` with at least one of the examples.  Why doesn't `re5` report any `None`s?\n",
    "    The entire expression is enclosed in parenthesis denoted by a '*' which means that the matched characters can occur zero or more times in sequence. When the expression doesn't find a match, it assumes zero instead of responding with a failure 'None'\n",
    "\n",
    "5. Why does `re6` match all the characters in `example13`?\n",
    "    're6' asks for a series of all alphanumeric characters OR a series of ALL non-alphanumeric and non-whitespace charatcers. 'example13' is all non-alphanumeric characters. \n",
    "\n",
    "6. Why doesnt `re6` match `example8`?\n",
    "    The whitespace is the first character of 'example8' so that makes it fail to meet either criteria of 're6'\n"
   ]
  },
  {
   "cell_type": "markdown",
   "metadata": {},
   "source": [
    "## An example that requires NLTK to be installed"
   ]
  },
  {
   "cell_type": "markdown",
   "metadata": {},
   "source": [
    "   To run the code for this example, you will use a **balanced corpus**\n",
    "   of English texts, a corpus collected with the purpose of representing\n",
    "   a balanced variety of English text types: fiction, poetry, speech,\n",
    "   non fiction, and so on.  One relatively well-established, free,\n",
    "   and easy-to-get example of such a corpus is the **Brown Corpus.**\n",
    "   Brown is about 1.2 M words. \n",
    "   \n",
    "   You can import the corpus as follows::\n",
    "\n",
    "     >>> from nltk.corpus import brown\n",
    "\n",
    "\n",
    "   If this does not work, it is because you have nltk installed without the accompanying\n",
    "   corpora. You can download any nltk corpus you need through the `nltk.download` function For example,\n",
    "   to get the Brown corpus, do the following in Python::\n",
    "      \n",
    "      >>> import nltk\n",
    "      >>> nltk.download()\n",
    "\n",
    "   This brings up a window you can interact with.  There are some tabs\n",
    "   at the top.  Choose the tab labeled *Corpora*,\n",
    "   select **Brown**, and click the **download** button\n",
    "   at the bottom of the window.   You will then have\n",
    "   Brown on your machine and you can import the corpus as follows::\n",
    "\n",
    "     >>> from nltk.corpus import brown\n",
    "\n",
    "   The following returns a list of all 1.2 M word tokens in Brown::\n",
    "\n",
    "     >>> brown.words()\n",
    "     ['The', 'Fulton', 'County', 'Grand', 'Jury', 'said', ...]\n",
    "\n"
   ]
  },
  {
   "cell_type": "code",
   "execution_count": 10,
   "metadata": {},
   "outputs": [
    {
     "data": {
      "text/plain": [
       "[(u'io', 2787),\n",
       " (u'ea', 2249),\n",
       " (u'ou', 1855),\n",
       " (u'ie', 1799),\n",
       " (u'ia', 1400),\n",
       " (u'ee', 1289),\n",
       " (u'oo', 1174),\n",
       " (u'ai', 1145),\n",
       " (u'ue', 541),\n",
       " (u'au', 540),\n",
       " (u'ua', 502),\n",
       " (u'ei', 485),\n",
       " (u'ui', 483),\n",
       " (u'oa', 466),\n",
       " (u'oi', 412),\n",
       " (u'eo', 250),\n",
       " (u'iou', 225),\n",
       " (u'eu', 187),\n",
       " (u'oe', 181),\n",
       " (u'iu', 128),\n",
       " (u'ae', 85),\n",
       " (u'eau', 54),\n",
       " (u'uo', 53),\n",
       " (u'eou', 52),\n",
       " (u'uou', 37)]"
      ]
     },
     "execution_count": 10,
     "metadata": {},
     "output_type": "execute_result"
    }
   ],
   "source": [
    "# From http://www.nltk.org/book/ch03.html\n",
    "#  Find the most common vowel sequences in English.  Note: be patient.  Evaluating this may take a while.\n",
    "from nltk.corpus import brown\n",
    "from collections import Counter\n",
    "bw = sorted(set(brown.words()))\n",
    "# Find every instance of two or more consecutive vowels, and count tokens of each.\n",
    "ctr = Counter(vs  for word in bw for vs in re.findall('[aeiou]{2,}',word)\n",
    "              )\n",
    "ctr.most_common(25)\n",
    "\n"
   ]
  },
  {
   "cell_type": "markdown",
   "metadata": {},
   "source": [
    "## Poker examples"
   ]
  },
  {
   "cell_type": "markdown",
   "metadata": {},
   "source": [
    "Suppose you are writing a poker program where a player’s hand is represented as a 5-character string with each character representing a card, “a” for ace, “k” for king, “q” for queen, “j” for jack, “t” for 10, and “2” through “9” representing the card with that value.\n",
    "\n",
    "To see if a given string is a valid hand, one could run the code in t he following cell"
   ]
  },
  {
   "cell_type": "code",
   "execution_count": 11,
   "metadata": {},
   "outputs": [
    {
     "name": "stdout",
     "output_type": "stream",
     "text": [
      "akt5q      [akt5q]\n",
      "akt5e      None\n",
      "akt        None\n",
      "727ak      [727ak]\n",
      "727aka     None\n"
     ]
    }
   ],
   "source": [
    "import re\n",
    "def displaymatch(regex,text):\n",
    "    match = regex.match(text)\n",
    "    if match is None:\n",
    "        matchstring = None\n",
    "    else:\n",
    "        matchstring = '%s[%s]%s' % (text[:match.start()],text[match.start():match.end()],text[match.end():])\n",
    "    print '%-10s %s' % (text,matchstring)\n",
    "\n",
    "valid = re.compile(r\"^[a2-9tjqk]{5}$\")\n",
    "\n",
    "## Some examples\n",
    "displaymatch(valid, \"akt5q\")  # Valid.\n",
    "displaymatch(valid, \"akt5e\")  # Invalid.\n",
    "displaymatch(valid, \"akt\")    # Invalid.\n",
    "displaymatch(valid, \"727ak\")  # Valid.\n",
    "displaymatch(valid, \"727aka\")  # Invalid.\n"
   ]
  },
  {
   "cell_type": "markdown",
   "metadata": {},
   "source": [
    "The hand \"727ak\" contains a pair, and we would like to recognize such hands as special, so that we can go all in.  We can do this using regular expression groups and register references.  The match for each parenthesized part of a regular expression is called a **group**.  We can refer back to the particular match  associated with a group with \\integer.  Where integer is any integer from 1 through 9.  \\1 refers to the first group, \\2 to the second, and so on.  So to match poker hands with pairs, we do the following."
   ]
  },
  {
   "cell_type": "code",
   "execution_count": 12,
   "metadata": {},
   "outputs": [
    {
     "name": "stdout",
     "output_type": "stream",
     "text": [
      "727ak      [727ak]\n",
      "723ak      None\n"
     ]
    },
    {
     "data": {
      "text/plain": [
       "'7'"
      ]
     },
     "execution_count": 12,
     "metadata": {},
     "output_type": "execute_result"
    }
   ],
   "source": [
    "pair = re.compile(r\".*(.).*\\1.*\")\n",
    "displaymatch(pair,\"727ak\")\n",
    "displaymatch(pair,\"723ak\")\n",
    "pair.match(\"717ak\").groups()[0]"
   ]
  },
  {
   "cell_type": "code",
   "execution_count": 13,
   "metadata": {},
   "outputs": [
    {
     "name": "stdout",
     "output_type": "stream",
     "text": [
      "a2aak      [a2aak]\n"
     ]
    },
    {
     "data": {
      "text/plain": [
       "'a'"
      ]
     },
     "execution_count": 13,
     "metadata": {},
     "output_type": "execute_result"
    }
   ],
   "source": [
    "displaymatch(pair,\"a2aak\")\n",
    "pair.match(\"aa2ak\").groups()[0]"
   ]
  },
  {
   "cell_type": "code",
   "execution_count": 14,
   "metadata": {},
   "outputs": [
    {
     "name": "stdout",
     "output_type": "stream",
     "text": [
      "a2kak      [a2kak]\n",
      "a2kka      [a2kka]\n",
      "aa2kk      [aa2kk]\n",
      "aa2aq      None\n",
      "aaaaq      [aaaaq]\n",
      "akaaa      [akaaa]\n",
      "kaaaa      [kaaaa]\n",
      "aakaa      [aakaa]\n",
      "aaaka      [aaaka]\n",
      "aaaak      [aaaak]\n"
     ]
    }
   ],
   "source": [
    "two_pair = re.compile(r\"(?:.*(.).*(.).*\\1.*\\2.*)|(?:.*(.).*(.).*\\4.*\\3.*)|(?:.*(.).*\\5.*(.).*\\6.*)\")\n",
    "\n",
    "#two_pair = re.compile(r\".*(.).*(.).*\\2.*\\1.*\")\n",
    "displaymatch(two_pair,\"a2kak\")\n",
    "displaymatch(two_pair,\"a2kka\")\n",
    "displaymatch(two_pair,\"aa2kk\")\n",
    "displaymatch(two_pair,\"aa2aq\")\n",
    "displaymatch(two_pair,\"aaaaq\")\n",
    "four_of_a_kind = re.compile(r\".*(.).*\\1.*\\1.*\\1.*\")\n",
    "four_of_a_kind_alt = re.compile(r\".?(.).?\\1.?\\1.?\\1.?\")\n",
    "displaymatch(four_of_a_kind,\"akaaa\")\n",
    "displaymatch(four_of_a_kind,\"kaaaa\")\n",
    "displaymatch(four_of_a_kind,\"aakaa\")\n",
    "displaymatch(four_of_a_kind,\"aaaka\")\n",
    "displaymatch(four_of_a_kind,\"aaaak\")"
   ]
  },
  {
   "cell_type": "markdown",
   "metadata": {},
   "source": [
    "Of course, the regex `pair` does not require the text string to be a Poker hand.  We could revise it to do that and if you think about it a little, it would actually make the regex  **a lot** more complicated.  What we could do instead is first apply `valid` to guarantee we've got a valid poker hand and then apply `pair` to find out if it contains a pair. This makes both regexes simple and easy to understand and still enforce all the constraints we want.  Often a good strategy in applying regexes to enforce some complicated constraints is to divide the constraints up into separate categories and apply them **in succession.**.  \n",
    "\n",
    "A problem with `pair` is that it doesnt tell us  what we've got a pair of.  Actually, the match object contains this information.  It has an attribute called `groups` which contains all portions of the string that matched a group.  We can use a revised version of `displaymatch` to print this, when requested:"
   ]
  },
  {
   "cell_type": "code",
   "execution_count": 15,
   "metadata": {},
   "outputs": [
    {
     "name": "stdout",
     "output_type": "stream",
     "text": [
      "723ak      None\n",
      "722a7      [722a7] (None, None, '7', '2', None, None)\n",
      "722ak      None\n",
      "7a722      [7a722] (None, None, None, None, '7', '2')\n",
      "727a2      [727a2] ('7', '2', None, None, None, None)\n",
      "aaaa2      [aaaa2] ('a', 'a', None, None, None, None)\n"
     ]
    }
   ],
   "source": [
    "import re\n",
    "def displaymatch(regex,text, print_groups=False):\n",
    "    match = regex.match(text)\n",
    "    if match is None:\n",
    "        matchstring = None\n",
    "    else:\n",
    "        matchstring = '%s[%s]%s' % (text[:match.start()],text[match.start():match.end()],text[match.end():])\n",
    "    if print_groups and match:\n",
    "        print '%-10s %s %s' % (text,matchstring,match.groups())\n",
    "    else:\n",
    "        print '%-10s %s' % (text,matchstring)\n",
    "\n",
    "# Re for recognizing pair hands\n",
    "pair = re.compile(r\".*(.).*\\1\")\n",
    "displaymatch(pair,\"723ak\",print_groups=True)\n",
    "\n",
    "## Write your regex for recognizing two pair below. Test\n",
    "two_pair = re.compile(r\"(?:.*(.).*(.).*\\1.*\\2.*)|(?:.*(.).*(.).*\\4.*\\3.*)|(?:.*(.).*\\5.*(.).*\\6.*)\")\n",
    "\n",
    "displaymatch(two_pair,\"722a7\",print_groups=True)\n",
    "displaymatch(two_pair,\"722ak\",print_groups=True)  # Shd fail on this one\n",
    "displaymatch(two_pair,\"7a722\",print_groups=True)\n",
    "displaymatch(two_pair,\"727a2\",print_groups=True)\n",
    "displaymatch(two_pair,\"aaaa2\",print_groups=True)  # Will succeed on this one, but that's ok"
   ]
  },
  {
   "cell_type": "markdown",
   "metadata": {},
   "source": [
    "## Questions"
   ]
  },
  {
   "cell_type": "markdown",
   "metadata": {},
   "source": [
    "1.  Write regexes that match three-of-a-kind hands,  and four-of-a-kind hands.  Follow the model of `pairs` and dont bother to guarantee that it's a valid Poker hand.\n",
    "\n",
    "    three_of_a_kind = re.compile(r\".*(.).*\\1.*\\1.*\")\n",
    "    four_of_a_kind = re.compile(r\".*(.).*\\1.*\\1.*\\1.*\")\n",
    "    \n",
    "    \n",
    "2.  It's quite complex to write a regular expression that checks to see if you've got a straight, but you can try the following strategy.  First, verify you've got a valid poker hand; then verify you havent got a pair, three-of-kind, or four-of-a-kind.  So you have a valid poker hand with no repetitions and you dont need the regex that checks for straights to rule those out.\n",
    "    Now write a regex that will check to see if a valid poker hand with no repetitions is a straight  beginning with '2'.  It should succeed on `23456` and `25643` and `32654` and it should fail `24357`.  To deal with all possible straights in this way, how many cases are there to take care of?  Write a single regular expression that will identify any straight, given that it is a valid poker hand with no repetitions.  Test it on the straights above and on straights like `akqjt` and on the non-straight `24357`.\n",
    "    \n",
    "    straight = re.compile(r\"(2345A|23456|34567|45678|56789|6789t|789tj|89tjq|9tjqk|tjqka)\\.*\")\n",
    "    \n",
    "    \n",
    "3.  Write a regex that matches a two pair hand. This is tricky and the most natural answer will also match four-of-a-kind. Assume we've eliminated that possibility by failing to match the four-of-kind pattern from 1.  You should test `722a7`, `7a722` and `727a2`.  You will need a pattern that is a big disjunction using `|`, and you will need to enclose the disjuncts of this big disjunction in parentheses, but for that purpose you will need parentheses that don't count as defining a retrievable group.  The notation for that is `(?:` instead of `(` [the same right paren is used in both cases]. See [Python regex docs.](http://docs.python.org/2/library/re.html)\n",
    "\n",
    "    two_diff_pair = "
   ]
  },
  {
   "cell_type": "markdown",
   "metadata": {},
   "source": [
    "## How to do extraction"
   ]
  },
  {
   "cell_type": "markdown",
   "metadata": {},
   "source": [
    "The following example is from `The weather underground page for San Diego <http://www.wunderground.com/weather-forecast/US/CA/San_Diego.html>`_.  The temperature is regularly given in a page division (HTML tag `div`) with ID (HTML attribute `divID`) `NowTemp`.  If we can find that division and the temperature inside it, we have what we want.  The pattern needs to be compiled with flags that allow it to match across multiple lines, because the context that identifies the temperature does not occur on the same line as the temperature.  Compiling regular expressions also makes them more efficient when reused.  A key point is that we place the actual temperature we want inside parentheses, the `(\\d{1,3}\\.\\d)` part of the pattern.  Portions of a pattern that occur in parentheses and are matched are placed ins the `groups` attribute of  the match object.  The groups attribute is a tuple of all the matched strings in parentheses in the pattern."
   ]
  },
  {
   "cell_type": "code",
   "execution_count": 16,
   "metadata": {},
   "outputs": [
    {
     "data": {
      "text/plain": [
       "['55.8']"
      ]
     },
     "execution_count": 16,
     "metadata": {},
     "output_type": "execute_result"
    }
   ],
   "source": [
    "import re\n",
    "html_string = \"\"\"\n",
    "<div class=\"br10\" id=\"stationSelect\">\n",
    "\t\t<a class=\"br10\" id=\"stationselector_button\" href=\"javascript:void(0);\" onclick=\"_gaq.push(['_trackEvent', 'Station Select', 'Opened']);\"><span>Station Select</span></a>\n",
    "\t\t</div>\n",
    "\t\t</div>\n",
    "\t\t<div id=\"conds_dashboard\">\n",
    "\t\t<div id=\"hour00\">\n",
    "\t\t<div id=\"nowCond\">\n",
    "\t\t<div class=\"titleSubtle\">Now</div>\n",
    "\t\t<div id=\"curIcon\"><a href=\"\" class=\"iconSwitchBig\"><img src=\"http://icons-ak.wxug.com/i/c/k/nt_partlycloudy.gif\" width=\"44\" height=\"44\" alt=\"Scattered Clouds\" class=\"condIcon\" /></a></div>\n",
    "\t\t<div id=\"curCond\">Scattered Clouds</div>\n",
    "\t\t</div>\n",
    "\t\t<div id=\"nowTemp\">\n",
    "\t\t<div class=\"titleSubtle\">Temperature</div>\n",
    "\t\t<div id=\"tempActual\"><span id=\"rapidtemp\" class=\"pwsrt\" pwsid=\"KCASANDI123\" pwsunit=\"english\" pwsvariable=\"tempf\" english=\"&deg;F\" metric=\"&deg;C\" value=\"55.8\">\n",
    "  <span class=\"nobr\"><span class=\"b\">55.8</span>&nbsp;&deg;F</span>\n",
    "</span></div>\n",
    "\t\t<div id=\"tempFeel\">Feels Like\n",
    "  <span class=\"nobr\"><span class=\"b\">55.1</span>&nbsp;&deg;F</span>\n",
    "</div>\n",
    "\t\t</div>\n",
    "\"\"\"\n",
    "pattern = r'<div\\s+id\\s*=\\s*\\\"nowTemp\\\"\\s*>.*?(\\d{1,3}\\.\\d).*?</div>'\n",
    "pattern_re = re.compile(pattern,re.MULTILINE | re.DOTALL)\n",
    "#m = re.search(pattern_re,html_string)\n",
    "#m.groups()\n",
    "pattern_re.findall(html_string)"
   ]
  },
  {
   "cell_type": "markdown",
   "metadata": {},
   "source": [
    "The pattern in the example above was built up piece by piece.  First we built a regular expression matching the `<div id=\"nowTemp\">` part of the pattern.  That piece looked like this:\n",
    "    \n",
    "     subpattern = r'<div\\s+id\\s*=\\s*\\\"nowTemp\\\"\\s*>\n",
    " \n",
    " The `\\s*` aren't needed for this particular string, but there is considerable variation in how actual HTML is generated, and since\n",
    " white space in the `\\s*` positions wouldn't be meaningful, it is allowed.  Next we tested the core part of the pattern on its own:\n",
    " \n",
    "     corepattern = r'(\\d{1,3}\\.\\d)'\n",
    "  \n",
    "  Finally we tested the last part:\n",
    "  \n",
    "     lastpattern = r`</div>'"
   ]
  },
  {
   "cell_type": "markdown",
   "metadata": {},
   "source": [
    "## Tokenization  (NLTK assumed)"
   ]
  },
  {
   "cell_type": "markdown",
   "metadata": {},
   "source": [
    "Tokenization is the process of breaking up a text into words.  We have in some cases used `split()` for this purpose, uniformly splitting a text up into words on the spaces, but this doesn't always yield the right results, as the next examples show."
   ]
  },
  {
   "cell_type": "code",
   "execution_count": 31,
   "metadata": {},
   "outputs": [],
   "source": [
    "import sre_parse\n",
    "def compile_regexp_to_noncapturing(pattern, flags=0):\n",
    "    \"\"\"\n",
    "    Compile the regexp pattern after switching all grouping parentheses\n",
    "    in the given regexp pattern to non-capturing groups.\n",
    "\n",
    "    :type pattern: str\n",
    "    :rtype: str\n",
    "    \"\"\"\n",
    "    def convert_regexp_to_noncapturing_parsed(parsed_pattern):\n",
    "        res_data = []\n",
    "        for key, value in parsed_pattern.data:\n",
    "            if key == sre_constants.SUBPATTERN:\n",
    "                index, subpattern = value\n",
    "                value = (None, convert_regexp_to_noncapturing_parsed(subpattern))\n",
    "            elif key == sre_constants.GROUPREF:\n",
    "                raise ValueError('Regular expressions with back-references are not supported: {0}'.format(pattern))\n",
    "            res_data.append((key, value))\n",
    "        parsed_pattern.data = res_data\n",
    "        print(repr(parsed_pattern))\n",
    "        print(repr(parsed_pattern.pattern))\n",
    "        print(repr(parsed_pattern.pattern.groups))\n",
    "        parsed_pattern.pattern.groups = 1\n",
    "        parsed_pattern.pattern.groupdict = {}\n",
    "        return parsed_pattern\n",
    "\n",
    "    print(repr(pattern))\n",
    "    print(repr(sre_parse.parse(pattern)))\n",
    "    return sre_compile.compile(convert_regexp_to_noncapturing_parsed(sre_parse.parse(pattern)), flags=flags)"
   ]
  },
  {
   "cell_type": "code",
   "execution_count": 32,
   "metadata": {
    "collapsed": true
   },
   "outputs": [],
   "source": [
    "class Pattern:\n",
    "    # master pattern object.  keeps track of global attributes\n",
    "    def __init__(self):\n",
    "        self.flags = 0\n",
    "        self.open = []\n",
    "        self.groups = 1\n",
    "        self.groupdict = {}\n",
    "    def opengroup(self, name=None):\n",
    "        gid = self.groups\n",
    "        self.groups = gid + 1\n",
    "        if name is not None:\n",
    "            ogid = self.groupdict.get(name, None)\n",
    "            if ogid is not None:\n",
    "                raise error(\"redefinition of group name %s as group %d; \"\n",
    "                            \"was group %d\" % (repr(name), gid,  ogid))\n",
    "            self.groupdict[name] = gid\n",
    "        self.open.append(gid)\n",
    "        return gid\n",
    "    def closegroup(self, gid):\n",
    "        self.open.remove(gid)\n",
    "    def checkgroup(self, gid):\n",
    "        return gid < self.groups and gid not in self.open"
   ]
  },
  {
   "cell_type": "code",
   "execution_count": 42,
   "metadata": {},
   "outputs": [
    {
     "name": "stdout",
     "output_type": "stream",
     "text": [
      "' \\n   ([A-Z]\\\\.)+        # abbreviations, e.g. U.S.A.\\n  |\\\\w+(-\\\\w+)*        # words with optional internal hyphens\\n  |\\\\$?\\\\d+(\\\\.\\\\d+)?%?  # currency and percentages, e.g. $12.40, 82%\\n  |\\\\.\\\\.\\\\.            # ellipsis\\n  |[][.,;\"\\'?():-_`]  # these are separate tokens\\n'\n",
      "[('branch', (None, [[('literal', 32), ('literal', 10), ('literal', 32), ('literal', 32), ('literal', 32), ('max_repeat', (1, 4294967295L, [('subpattern', (1, [('in', [('range', (65, 90))]), ('literal', 46)]))])), ('literal', 32), ('literal', 32), ('literal', 32), ('literal', 32), ('literal', 32), ('literal', 32), ('literal', 32), ('literal', 32), ('literal', 35), ('literal', 32), ('literal', 97), ('literal', 98), ('literal', 98), ('literal', 114), ('literal', 101), ('literal', 118), ('literal', 105), ('literal', 97), ('literal', 116), ('literal', 105), ('literal', 111), ('literal', 110), ('literal', 115), ('literal', 44), ('literal', 32), ('literal', 101), ('any', None), ('literal', 103), ('any', None), ('literal', 32), ('literal', 85), ('any', None), ('literal', 83), ('any', None), ('literal', 65), ('any', None), ('literal', 10), ('literal', 32), ('literal', 32)], [('max_repeat', (1, 4294967295L, [('in', [('category', 'category_word')])])), ('max_repeat', (0, 4294967295L, [('subpattern', (2, [('literal', 45), ('max_repeat', (1, 4294967295L, [('in', [('category', 'category_word')])]))]))])), ('literal', 32), ('literal', 32), ('literal', 32), ('literal', 32), ('literal', 32), ('literal', 32), ('literal', 32), ('literal', 32), ('literal', 35), ('literal', 32), ('literal', 119), ('literal', 111), ('literal', 114), ('literal', 100), ('literal', 115), ('literal', 32), ('literal', 119), ('literal', 105), ('literal', 116), ('literal', 104), ('literal', 32), ('literal', 111), ('literal', 112), ('literal', 116), ('literal', 105), ('literal', 111), ('literal', 110), ('literal', 97), ('literal', 108), ('literal', 32), ('literal', 105), ('literal', 110), ('literal', 116), ('literal', 101), ('literal', 114), ('literal', 110), ('literal', 97), ('literal', 108), ('literal', 32), ('literal', 104), ('literal', 121), ('literal', 112), ('literal', 104), ('literal', 101), ('literal', 110), ('literal', 115), ('literal', 10), ('literal', 32), ('literal', 32)], [('max_repeat', (0, 1, [('literal', 36)])), ('max_repeat', (1, 4294967295L, [('in', [('category', 'category_digit')])])), ('max_repeat', (0, 1, [('subpattern', (3, [('literal', 46), ('max_repeat', (1, 4294967295L, [('in', [('category', 'category_digit')])]))]))])), ('max_repeat', (0, 1, [('literal', 37)])), ('literal', 32), ('literal', 32), ('literal', 35), ('literal', 32), ('literal', 99), ('literal', 117), ('literal', 114), ('literal', 114), ('literal', 101), ('literal', 110), ('literal', 99), ('literal', 121), ('literal', 32), ('literal', 97), ('literal', 110), ('literal', 100), ('literal', 32), ('literal', 112), ('literal', 101), ('literal', 114), ('literal', 99), ('literal', 101), ('literal', 110), ('literal', 116), ('literal', 97), ('literal', 103), ('literal', 101), ('literal', 115), ('literal', 44), ('literal', 32), ('literal', 101), ('any', None), ('literal', 103), ('any', None), ('literal', 32), ('at', 'at_end'), ('literal', 49), ('literal', 50), ('any', None), ('literal', 52), ('literal', 48), ('literal', 44), ('literal', 32), ('literal', 56), ('literal', 50), ('literal', 37), ('literal', 10), ('literal', 32), ('literal', 32)], [('literal', 46), ('literal', 46), ('literal', 46), ('literal', 32), ('literal', 32), ('literal', 32), ('literal', 32), ('literal', 32), ('literal', 32), ('literal', 32), ('literal', 32), ('literal', 32), ('literal', 32), ('literal', 32), ('literal', 32), ('literal', 35), ('literal', 32), ('literal', 101), ('literal', 108), ('literal', 108), ('literal', 105), ('literal', 112), ('literal', 115), ('literal', 105), ('literal', 115), ('literal', 10), ('literal', 32), ('literal', 32)], [('in', [('literal', 93), ('literal', 91), ('literal', 46), ('literal', 44), ('literal', 59), ('literal', 34), ('literal', 39), ('literal', 63), ('literal', 40), ('literal', 41), ('range', (58, 95)), ('literal', 96)]), ('literal', 32), ('literal', 32), ('literal', 35), ('literal', 32), ('literal', 116), ('literal', 104), ('literal', 101), ('literal', 115), ('literal', 101), ('literal', 32), ('literal', 97), ('literal', 114), ('literal', 101), ('literal', 32), ('literal', 115), ('literal', 101), ('literal', 112), ('literal', 97), ('literal', 114), ('literal', 97), ('literal', 116), ('literal', 101), ('literal', 32), ('literal', 116), ('literal', 111), ('literal', 107), ('literal', 101), ('literal', 110), ('literal', 115), ('literal', 10)]]))]\n",
      "[('branch', (None, [[('literal', 32), ('literal', 10), ('literal', 32), ('literal', 32), ('literal', 32), ('max_repeat', (1, 4294967295L, [('subpattern', (1, [('in', [('range', (65, 90))]), ('literal', 46)]))])), ('literal', 32), ('literal', 32), ('literal', 32), ('literal', 32), ('literal', 32), ('literal', 32), ('literal', 32), ('literal', 32), ('literal', 35), ('literal', 32), ('literal', 97), ('literal', 98), ('literal', 98), ('literal', 114), ('literal', 101), ('literal', 118), ('literal', 105), ('literal', 97), ('literal', 116), ('literal', 105), ('literal', 111), ('literal', 110), ('literal', 115), ('literal', 44), ('literal', 32), ('literal', 101), ('any', None), ('literal', 103), ('any', None), ('literal', 32), ('literal', 85), ('any', None), ('literal', 83), ('any', None), ('literal', 65), ('any', None), ('literal', 10), ('literal', 32), ('literal', 32)], [('max_repeat', (1, 4294967295L, [('in', [('category', 'category_word')])])), ('max_repeat', (0, 4294967295L, [('subpattern', (2, [('literal', 45), ('max_repeat', (1, 4294967295L, [('in', [('category', 'category_word')])]))]))])), ('literal', 32), ('literal', 32), ('literal', 32), ('literal', 32), ('literal', 32), ('literal', 32), ('literal', 32), ('literal', 32), ('literal', 35), ('literal', 32), ('literal', 119), ('literal', 111), ('literal', 114), ('literal', 100), ('literal', 115), ('literal', 32), ('literal', 119), ('literal', 105), ('literal', 116), ('literal', 104), ('literal', 32), ('literal', 111), ('literal', 112), ('literal', 116), ('literal', 105), ('literal', 111), ('literal', 110), ('literal', 97), ('literal', 108), ('literal', 32), ('literal', 105), ('literal', 110), ('literal', 116), ('literal', 101), ('literal', 114), ('literal', 110), ('literal', 97), ('literal', 108), ('literal', 32), ('literal', 104), ('literal', 121), ('literal', 112), ('literal', 104), ('literal', 101), ('literal', 110), ('literal', 115), ('literal', 10), ('literal', 32), ('literal', 32)], [('max_repeat', (0, 1, [('literal', 36)])), ('max_repeat', (1, 4294967295L, [('in', [('category', 'category_digit')])])), ('max_repeat', (0, 1, [('subpattern', (3, [('literal', 46), ('max_repeat', (1, 4294967295L, [('in', [('category', 'category_digit')])]))]))])), ('max_repeat', (0, 1, [('literal', 37)])), ('literal', 32), ('literal', 32), ('literal', 35), ('literal', 32), ('literal', 99), ('literal', 117), ('literal', 114), ('literal', 114), ('literal', 101), ('literal', 110), ('literal', 99), ('literal', 121), ('literal', 32), ('literal', 97), ('literal', 110), ('literal', 100), ('literal', 32), ('literal', 112), ('literal', 101), ('literal', 114), ('literal', 99), ('literal', 101), ('literal', 110), ('literal', 116), ('literal', 97), ('literal', 103), ('literal', 101), ('literal', 115), ('literal', 44), ('literal', 32), ('literal', 101), ('any', None), ('literal', 103), ('any', None), ('literal', 32), ('at', 'at_end'), ('literal', 49), ('literal', 50), ('any', None), ('literal', 52), ('literal', 48), ('literal', 44), ('literal', 32), ('literal', 56), ('literal', 50), ('literal', 37), ('literal', 10), ('literal', 32), ('literal', 32)], [('literal', 46), ('literal', 46), ('literal', 46), ('literal', 32), ('literal', 32), ('literal', 32), ('literal', 32), ('literal', 32), ('literal', 32), ('literal', 32), ('literal', 32), ('literal', 32), ('literal', 32), ('literal', 32), ('literal', 32), ('literal', 35), ('literal', 32), ('literal', 101), ('literal', 108), ('literal', 108), ('literal', 105), ('literal', 112), ('literal', 115), ('literal', 105), ('literal', 115), ('literal', 10), ('literal', 32), ('literal', 32)], [('in', [('literal', 93), ('literal', 91), ('literal', 46), ('literal', 44), ('literal', 59), ('literal', 34), ('literal', 39), ('literal', 63), ('literal', 40), ('literal', 41), ('range', (58, 95)), ('literal', 96)]), ('literal', 32), ('literal', 32), ('literal', 35), ('literal', 32), ('literal', 116), ('literal', 104), ('literal', 101), ('literal', 115), ('literal', 101), ('literal', 32), ('literal', 97), ('literal', 114), ('literal', 101), ('literal', 32), ('literal', 115), ('literal', 101), ('literal', 112), ('literal', 97), ('literal', 114), ('literal', 97), ('literal', 116), ('literal', 101), ('literal', 32), ('literal', 116), ('literal', 111), ('literal', 107), ('literal', 101), ('literal', 110), ('literal', 115), ('literal', 10)]]))]\n",
      "<sre_parse.Pattern instance at 0x1117e37a0>\n",
      "4\n"
     ]
    },
    {
     "ename": "NameError",
     "evalue": "name 'npattern' is not defined",
     "output_type": "error",
     "traceback": [
      "\u001b[0;31m---------------------------------------------------------------------------\u001b[0m",
      "\u001b[0;31mNameError\u001b[0m                                 Traceback (most recent call last)",
      "\u001b[0;32m<ipython-input-42-3f493efe705a>\u001b[0m in \u001b[0;36m<module>\u001b[0;34m()\u001b[0m\n\u001b[1;32m     22\u001b[0m \"\"\"\n\u001b[1;32m     23\u001b[0m \u001b[0mnpattern_re\u001b[0m \u001b[0;34m=\u001b[0m \u001b[0mcompile_regexp_to_noncapturing\u001b[0m\u001b[0;34m(\u001b[0m\u001b[0mpattern\u001b[0m\u001b[0;34m)\u001b[0m\u001b[0;34m\u001b[0m\u001b[0m\n\u001b[0;32m---> 24\u001b[0;31m \u001b[0mnpattern_re\u001b[0m \u001b[0;34m=\u001b[0m \u001b[0mre\u001b[0m\u001b[0;34m.\u001b[0m\u001b[0mcompile\u001b[0m\u001b[0;34m(\u001b[0m\u001b[0mnpattern\u001b[0m\u001b[0;34m,\u001b[0m\u001b[0mre\u001b[0m\u001b[0;34m.\u001b[0m\u001b[0mUNICODE\u001b[0m \u001b[0;34m|\u001b[0m \u001b[0mre\u001b[0m\u001b[0;34m.\u001b[0m\u001b[0mMULTILINE\u001b[0m \u001b[0;34m|\u001b[0m \u001b[0mre\u001b[0m\u001b[0;34m.\u001b[0m\u001b[0mDOTALL\u001b[0m \u001b[0;34m|\u001b[0m\u001b[0mre\u001b[0m\u001b[0;34m.\u001b[0m\u001b[0mX\u001b[0m\u001b[0;34m)\u001b[0m\u001b[0;34m\u001b[0m\u001b[0m\n\u001b[0m\u001b[1;32m     25\u001b[0m \u001b[0mtry2\u001b[0m \u001b[0;34m=\u001b[0m \u001b[0mnpattern_re\u001b[0m\u001b[0;34m.\u001b[0m\u001b[0mfindall\u001b[0m\u001b[0;34m(\u001b[0m\u001b[0mtext\u001b[0m\u001b[0;34m)\u001b[0m\u001b[0;34m\u001b[0m\u001b[0m\n\u001b[1;32m     26\u001b[0m \u001b[0;32mimport\u001b[0m \u001b[0mnltk\u001b[0m\u001b[0;34m\u001b[0m\u001b[0m\n",
      "\u001b[0;31mNameError\u001b[0m: name 'npattern' is not defined"
     ]
    }
   ],
   "source": [
    "# From http://www.nltk.org/book/ch03.html\n",
    "import sre\n",
    "import sre_parse\n",
    "import sre_compile\n",
    "import sre_constants\n",
    "from __future__ import division\n",
    "import nltk, re, pprint\n",
    "from nltk import word_tokenize\n",
    "#from nltk.tokenize.regexp import compile_regexp_to_noncapturing\n",
    "\n",
    "text = \"\"\"\n",
    "\"That,\" said  Fred, \"is what you get in the U.S.A. for $5.29.\"\n",
    "\"\"\"\n",
    "try1 = text.split()\n",
    "\n",
    "pattern = r\"\"\" \n",
    "   ([A-Z]\\.)+        # abbreviations, e.g. U.S.A.\n",
    "  |\\w+(-\\w+)*        # words with optional internal hyphens\n",
    "  |\\$?\\d+(\\.\\d+)?%?  # currency and percentages, e.g. $12.40, 82%\n",
    "  |\\.\\.\\.            # ellipsis\n",
    "  |[][.,;\"'?():-_`]  # these are separate tokens\n",
    "\"\"\"\n",
    "npattern_re = compile_regexp_to_noncapturing(pattern)\n",
    "npattern_re = re.compile(npattern,re.UNICODE | re.MULTILINE | re.DOTALL |re.X)\n",
    "try2 = npattern_re.findall(text)\n",
    "import nltk\n",
    "try3 = nltk.regexp_tokenize(text,npattern_re)"
   ]
  },
  {
   "cell_type": "code",
   "execution_count": 37,
   "metadata": {},
   "outputs": [
    {
     "data": {
      "text/plain": [
       "'Hi'"
      ]
     },
     "execution_count": 37,
     "metadata": {},
     "output_type": "execute_result"
    }
   ],
   "source": [
    "pattern = r\"\"\"([A-Za-z])+\"\"\"\n",
    "m = re.match(pattern,'Hi')\n",
    "m.group()"
   ]
  },
  {
   "cell_type": "code",
   "execution_count": 38,
   "metadata": {},
   "outputs": [
    {
     "data": {
      "text/plain": [
       "['\"That,\"',\n",
       " 'said',\n",
       " 'Fred,',\n",
       " '\"is',\n",
       " 'what',\n",
       " 'you',\n",
       " 'get',\n",
       " 'in',\n",
       " 'the',\n",
       " 'U.S.A.',\n",
       " 'for',\n",
       " '$5.29.\"']"
      ]
     },
     "execution_count": 38,
     "metadata": {},
     "output_type": "execute_result"
    }
   ],
   "source": [
    "try1"
   ]
  },
  {
   "cell_type": "markdown",
   "metadata": {},
   "source": [
    "The `split` tokenized sentence has some very strange words, for example the 7-character strings `\"Fred,\"` and `\"That,\"`,  and the 3-character string `\"is`. What's being missed here is that certain characters (like comma and qutation-mark) unambiguously mark a word boundary.  Regular expressions are very good at enforcing this sort of generalization, as we can see by comparing the results of tokenizing the same sentence with a regexp that does not allow words to continuew past boundary markers."
   ]
  },
  {
   "cell_type": "code",
   "execution_count": 39,
   "metadata": {},
   "outputs": [
    {
     "ename": "NameError",
     "evalue": "name 'try2' is not defined",
     "output_type": "error",
     "traceback": [
      "\u001b[0;31m---------------------------------------------------------------------------\u001b[0m",
      "\u001b[0;31mNameError\u001b[0m                                 Traceback (most recent call last)",
      "\u001b[0;32m<ipython-input-39-688e038d2c95>\u001b[0m in \u001b[0;36m<module>\u001b[0;34m()\u001b[0m\n\u001b[0;32m----> 1\u001b[0;31m \u001b[0mtry2\u001b[0m\u001b[0;34m\u001b[0m\u001b[0m\n\u001b[0m",
      "\u001b[0;31mNameError\u001b[0m: name 'try2' is not defined"
     ]
    }
   ],
   "source": [
    "try2"
   ]
  },
  {
   "cell_type": "markdown",
   "metadata": {},
   "source": [
    "Python regular expressions use parentheses for two different things, defining retrievable groups, which as we saw, is useful for extraction, and defining the scope of some regular expression operator (like `*` or `+`). Sometimes these two roles get in each other's way.  This is what happens in `pattern` above: Python `findall` handles groups specially and incorrectly treats the parenthesized elements as groups; so we use the regular expression convention of changing `(` to '(?:'.  The \"(?:' functions unambiguously to scope an operator and does not define a retrievable group.  Rather than make this change by hand, we call the convenient NLTK function `convert_regexp_to_nongrouping`.  We then compile the regular expression using various regular expression compiling flags.  `re.MULTILINE` and `re.DOTALL` allow our regular tokenizing `pattern` to match across lines, while `re.UNICODE` allows our definition of word, which depends on the interpretation of `\\w` to apply to UNICODE characters.  Finally, `re.X` is the most directly relevant to this example.  This allows regular expressions that intersperse comments, which makes them much more readable.  See [Python.org re docs](http://docs.python.org/2/library/re.html) for more details.\n"
   ]
  },
  {
   "cell_type": "markdown",
   "metadata": {},
   "source": [
    "## Sentence boundary detection"
   ]
  },
  {
   "cell_type": "code",
   "execution_count": null,
   "metadata": {
    "collapsed": true
   },
   "outputs": [],
   "source": [
    "import re\n",
    "text = \"\"\"\n",
    "The king rarely saw Marie \n",
    "on Tuesdays, but\n",
    "he did see her  on Wednesdays.  He liked\n",
    "to take long walks\n",
    "in the garden, gazing at the\n",
    "rhododendrns longingly.  She\n",
    "thought this\n",
    "odd.  Me, too.\n",
    "\"\"\"\n",
    "lines = re.split(r'\\s*[!?.]\\s*', text)\n"
   ]
  },
  {
   "cell_type": "code",
   "execution_count": null,
   "metadata": {
    "collapsed": true
   },
   "outputs": [],
   "source": [
    "lines"
   ]
  },
  {
   "cell_type": "code",
   "execution_count": null,
   "metadata": {
    "collapsed": true
   },
   "outputs": [],
   "source": []
  },
  {
   "cell_type": "code",
   "execution_count": null,
   "metadata": {
    "collapsed": true
   },
   "outputs": [],
   "source": []
  },
  {
   "cell_type": "code",
   "execution_count": null,
   "metadata": {
    "collapsed": true
   },
   "outputs": [],
   "source": []
  }
 ],
 "metadata": {
  "kernelspec": {
   "display_name": "Python 3",
   "language": "python",
   "name": "python3"
  },
  "language_info": {
   "codemirror_mode": {
    "name": "ipython",
    "version": 2
   },
   "file_extension": ".py",
   "mimetype": "text/x-python",
   "name": "python",
   "nbconvert_exporter": "python",
   "pygments_lexer": "ipython2",
   "version": "2.7.13"
  }
 },
 "nbformat": 4,
 "nbformat_minor": 1
}
