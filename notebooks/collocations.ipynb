{
 "cells": [
  {
   "cell_type": "markdown",
   "metadata": {},
   "source": [
    "# Collocations"
   ]
  },
  {
   "cell_type": "code",
   "execution_count": 18,
   "metadata": {
    "collapsed": true
   },
   "outputs": [],
   "source": [
    "import nltk\n",
    "from nltk.corpus import brown, treebank\n",
    "\n",
    "%matplotlib inline"
   ]
  },
  {
   "cell_type": "code",
   "execution_count": 5,
   "metadata": {
    "collapsed": true
   },
   "outputs": [],
   "source": [
    "def collocate(corpus, adj):\n",
    "    return nltk.FreqDist([w2 for (w1,t1),(w2,t2) in nltk.bigrams(corpus.tagged_words()) \n",
    "                                                                 if w1.upper() == adj.upper() and\n",
    "                                                                    t1.startswith('JJ') and\n",
    "                                                                    t2.startswith('NN')]) \n"
   ]
  },
  {
   "cell_type": "code",
   "execution_count": 6,
   "metadata": {},
   "outputs": [
    {
     "data": {
      "text/plain": [
       "[('stress', 11),\n",
       " ('hands', 7),\n",
       " ('opposition', 3),\n",
       " ('men', 3),\n",
       " ('arm', 2),\n",
       " ('pressures', 2),\n",
       " ('oil', 2),\n",
       " ('point', 2),\n",
       " ('feeling', 2),\n",
       " ('woman', 2)]"
      ]
     },
     "execution_count": 6,
     "metadata": {},
     "output_type": "execute_result"
    }
   ],
   "source": [
    "collocate(brown, 'strong').most_common(10)"
   ]
  },
  {
   "cell_type": "code",
   "execution_count": 7,
   "metadata": {},
   "outputs": [
    {
     "data": {
      "text/plain": [
       "[('engines', 2),\n",
       " ('arms', 2),\n",
       " ('transmitter', 1),\n",
       " ('man', 1),\n",
       " ('nations', 1),\n",
       " ('nation', 1),\n",
       " ('mirror', 1),\n",
       " ('efforts', 1),\n",
       " ('weapon', 1),\n",
       " ('glasses', 1)]"
      ]
     },
     "execution_count": 7,
     "metadata": {},
     "output_type": "execute_result"
    }
   ],
   "source": [
    "collocate(brown, 'powerful').most_common(10)"
   ]
  },
  {
   "cell_type": "code",
   "execution_count": 10,
   "metadata": {},
   "outputs": [
    {
     "data": {
      "text/plain": [
       "[('growth', 2),\n",
       " ('interest', 1),\n",
       " ('tradition', 1),\n",
       " ('yen', 1),\n",
       " ('evidence', 1),\n",
       " ('dividend', 1),\n",
       " ('periods', 1),\n",
       " ('warning', 1),\n",
       " ('stand', 1),\n",
       " ('cash', 1)]"
      ]
     },
     "execution_count": 10,
     "metadata": {},
     "output_type": "execute_result"
    }
   ],
   "source": [
    "collocate(treebank, 'strong').most_common(10)"
   ]
  },
  {
   "cell_type": "code",
   "execution_count": 11,
   "metadata": {},
   "outputs": [
    {
     "data": {
      "text/plain": [
       "[('Hawaii', 1), ('machinists', 1)]"
      ]
     },
     "execution_count": 11,
     "metadata": {},
     "output_type": "execute_result"
    }
   ],
   "source": [
    "collocate(treebank, 'powerful').most_common(10)"
   ]
  },
  {
   "cell_type": "markdown",
   "metadata": {},
   "source": [
    "---"
   ]
  },
  {
   "cell_type": "markdown",
   "metadata": {},
   "source": [
    "## Regular expressions"
   ]
  },
  {
   "cell_type": "code",
   "execution_count": 13,
   "metadata": {
    "collapsed": true
   },
   "outputs": [],
   "source": [
    "import re"
   ]
  },
  {
   "cell_type": "code",
   "execution_count": 14,
   "metadata": {},
   "outputs": [
    {
     "data": {
      "text/plain": [
       "['a', 'i', 'e', 'o', 'a', 'e', 'i', 'e', 'i']"
      ]
     },
     "execution_count": 14,
     "metadata": {},
     "output_type": "execute_result"
    }
   ],
   "source": [
    "re.findall(r'[aeiou]', 'San Diego State University')"
   ]
  },
  {
   "cell_type": "code",
   "execution_count": 15,
   "metadata": {},
   "outputs": [
    {
     "data": {
      "text/plain": [
       "['a', 'i', 'e', 'o', 'a', 'e', 'U', 'i', 'e', 'i']"
      ]
     },
     "execution_count": 15,
     "metadata": {},
     "output_type": "execute_result"
    }
   ],
   "source": [
    "re.findall(r'[AEIOUaeiou]', 'San Diego State University')"
   ]
  },
  {
   "cell_type": "code",
   "execution_count": 16,
   "metadata": {},
   "outputs": [
    {
     "data": {
      "text/plain": [
       "{'U', 'a', 'e', 'i', 'o'}"
      ]
     },
     "execution_count": 16,
     "metadata": {},
     "output_type": "execute_result"
    }
   ],
   "source": [
    "set(re.findall(r'[AEIOUaeiou]', 'San Diego State University'))"
   ]
  },
  {
   "cell_type": "code",
   "execution_count": 17,
   "metadata": {},
   "outputs": [
    {
     "data": {
      "text/plain": [
       "FreqDist({'U': 1, 'a': 2, 'e': 3, 'i': 3, 'o': 1})"
      ]
     },
     "execution_count": 17,
     "metadata": {},
     "output_type": "execute_result"
    }
   ],
   "source": [
    "nltk.FreqDist(re.findall(r'[AEIOUaeiou]', 'San Diego State University'))"
   ]
  },
  {
   "cell_type": "code",
   "execution_count": 19,
   "metadata": {},
   "outputs": [
    {
     "data": {
      "image/png": "[encoded data removed]",
      "text/plain": [
       "<matplotlib.figure.Figure at 0x111801b38>"
      ]
     },
     "metadata": {},
     "output_type": "display_data"
    }
   ],
   "source": [
    "f = nltk.FreqDist(re.findall(r'[AEIOUaeiou]', 'San Diego State University'))\n",
    "f.plot()"
   ]
  },
  {
   "cell_type": "code",
   "execution_count": 25,
   "metadata": {},
   "outputs": [
    {
     "data": {
      "text/plain": [
       "['a', 'ie', 'o', 'a', 'e', 'U', 'i', 'e', 'i']"
      ]
     },
     "execution_count": 25,
     "metadata": {},
     "output_type": "execute_result"
    }
   ],
   "source": [
    "re.findall(r'[AEIOUaeiou]+', 'San Diego State University')"
   ]
  },
  {
   "cell_type": "code",
   "execution_count": 26,
   "metadata": {},
   "outputs": [
    {
     "data": {
      "text/plain": [
       "['a', 'ie', 'o', 'a', 'e', 'UUUUUUUUUUUUUUU', 'i', 'e', 'i']"
      ]
     },
     "execution_count": 26,
     "metadata": {},
     "output_type": "execute_result"
    }
   ],
   "source": [
    "re.findall(r'[AEIOUaeiou]+', 'San Diego State UUUUUUUUUUUUUUUniversity')"
   ]
  },
  {
   "cell_type": "code",
   "execution_count": 27,
   "metadata": {
    "collapsed": true
   },
   "outputs": [],
   "source": [
    "vocab = nltk.corpus.words.words('en-basic')"
   ]
  },
  {
   "cell_type": "code",
   "execution_count": 28,
   "metadata": {},
   "outputs": [
    {
     "data": {
      "text/plain": [
       "850"
      ]
     },
     "execution_count": 28,
     "metadata": {},
     "output_type": "execute_result"
    }
   ],
   "source": [
    "len(vocab)"
   ]
  },
  {
   "cell_type": "code",
   "execution_count": 29,
   "metadata": {},
   "outputs": [
    {
     "data": {
      "text/plain": [
       "['than',\n",
       " 'that',\n",
       " 'the',\n",
       " 'then',\n",
       " 'theory',\n",
       " 'there',\n",
       " 'thick',\n",
       " 'thin',\n",
       " 'thing',\n",
       " 'this',\n",
       " 'though',\n",
       " 'thought',\n",
       " 'thread',\n",
       " 'throat',\n",
       " 'through',\n",
       " 'thumb',\n",
       " 'thunder']"
      ]
     },
     "execution_count": 29,
     "metadata": {},
     "output_type": "execute_result"
    }
   ],
   "source": [
    "[w for w in vocab if w.startswith('th')]"
   ]
  },
  {
   "cell_type": "code",
   "execution_count": 30,
   "metadata": {},
   "outputs": [
    {
     "data": {
      "text/plain": [
       "['authority',\n",
       " 'bath',\n",
       " 'birth',\n",
       " 'breath',\n",
       " 'brother',\n",
       " 'cloth',\n",
       " 'death',\n",
       " 'earth',\n",
       " 'father',\n",
       " 'feather',\n",
       " 'growth',\n",
       " 'healthy',\n",
       " 'leather',\n",
       " 'month',\n",
       " 'mother',\n",
       " 'mouth',\n",
       " 'north',\n",
       " 'other',\n",
       " 'rhythm',\n",
       " 'smooth',\n",
       " 'south',\n",
       " 'than',\n",
       " 'that',\n",
       " 'the',\n",
       " 'then',\n",
       " 'theory',\n",
       " 'there',\n",
       " 'thick',\n",
       " 'thin',\n",
       " 'thing',\n",
       " 'this',\n",
       " 'though',\n",
       " 'thought',\n",
       " 'thread',\n",
       " 'throat',\n",
       " 'through',\n",
       " 'thumb',\n",
       " 'thunder',\n",
       " 'together',\n",
       " 'tooth',\n",
       " 'weather',\n",
       " 'with']"
      ]
     },
     "execution_count": 30,
     "metadata": {},
     "output_type": "execute_result"
    }
   ],
   "source": [
    "[w for w in vocab if re.search(r'th', w)]"
   ]
  },
  {
   "cell_type": "code",
   "execution_count": 31,
   "metadata": {},
   "outputs": [
    {
     "data": {
      "text/plain": [
       "['than',\n",
       " 'that',\n",
       " 'the',\n",
       " 'then',\n",
       " 'theory',\n",
       " 'there',\n",
       " 'thick',\n",
       " 'thin',\n",
       " 'thing',\n",
       " 'this',\n",
       " 'though',\n",
       " 'thought',\n",
       " 'thread',\n",
       " 'throat',\n",
       " 'through',\n",
       " 'thumb',\n",
       " 'thunder']"
      ]
     },
     "execution_count": 31,
     "metadata": {},
     "output_type": "execute_result"
    }
   ],
   "source": [
    "[w for w in vocab if re.search(r'^th', w)]"
   ]
  },
  {
   "cell_type": "code",
   "execution_count": 32,
   "metadata": {},
   "outputs": [
    {
     "data": {
      "text/plain": [
       "['bath',\n",
       " 'birth',\n",
       " 'breath',\n",
       " 'cloth',\n",
       " 'death',\n",
       " 'earth',\n",
       " 'growth',\n",
       " 'month',\n",
       " 'mouth',\n",
       " 'north',\n",
       " 'smooth',\n",
       " 'south',\n",
       " 'tooth',\n",
       " 'with']"
      ]
     },
     "execution_count": 32,
     "metadata": {},
     "output_type": "execute_result"
    }
   ],
   "source": [
    "[w for w in vocab if re.search(r'th$', w)]"
   ]
  },
  {
   "cell_type": "code",
   "execution_count": 35,
   "metadata": {},
   "outputs": [
    {
     "data": {
      "text/plain": [
       "['authority',\n",
       " 'brother',\n",
       " 'father',\n",
       " 'feather',\n",
       " 'healthy',\n",
       " 'leather',\n",
       " 'mother',\n",
       " 'other',\n",
       " 'rhythm',\n",
       " 'together',\n",
       " 'weather']"
      ]
     },
     "execution_count": 35,
     "metadata": {},
     "output_type": "execute_result"
    }
   ],
   "source": [
    "[w for w in vocab if re.search(r'.th.', w)]"
   ]
  },
  {
   "cell_type": "code",
   "execution_count": 36,
   "metadata": {},
   "outputs": [
    {
     "data": {
      "text/plain": [
       "['though', 'through']"
      ]
     },
     "execution_count": 36,
     "metadata": {},
     "output_type": "execute_result"
    }
   ],
   "source": [
    "[w for w in vocab if re.search(r'^th.*h$', w)]"
   ]
  },
  {
   "cell_type": "code",
   "execution_count": 37,
   "metadata": {},
   "outputs": [
    {
     "data": {
      "text/plain": [
       "[]"
      ]
     },
     "execution_count": 37,
     "metadata": {},
     "output_type": "execute_result"
    }
   ],
   "source": [
    "[w for w in vocab if re.search(r'$th.*h^', w)]"
   ]
  },
  {
   "cell_type": "code",
   "execution_count": 38,
   "metadata": {},
   "outputs": [
    {
     "data": {
      "text/plain": [
       "['beautiful', 'behaviour', 'conscious', 'quiet', 'serious']"
      ]
     },
     "execution_count": 38,
     "metadata": {},
     "output_type": "execute_result"
    }
   ],
   "source": [
    "[w for w in vocab if re.search(r'[aeiou][aeiou][aeiou]', w)]"
   ]
  },
  {
   "cell_type": "code",
   "execution_count": 43,
   "metadata": {},
   "outputs": [
    {
     "data": {
      "text/plain": [
       "['a', 'e', 'i', 'e', 'e']"
      ]
     },
     "execution_count": 43,
     "metadata": {},
     "output_type": "execute_result"
    }
   ],
   "source": [
    "[v for v in re.findall(r'[aeiou]+',vocab[10].lower())]"
   ]
  },
  {
   "cell_type": "code",
   "execution_count": 44,
   "metadata": {},
   "outputs": [
    {
     "data": {
      "text/plain": [
       "{'a',\n",
       " 'ai',\n",
       " 'au',\n",
       " 'e',\n",
       " 'ea',\n",
       " 'eau',\n",
       " 'ee',\n",
       " 'ei',\n",
       " 'eo',\n",
       " 'i',\n",
       " 'ia',\n",
       " 'ie',\n",
       " 'io',\n",
       " 'iou',\n",
       " 'o',\n",
       " 'oa',\n",
       " 'oe',\n",
       " 'oi',\n",
       " 'oo',\n",
       " 'ou',\n",
       " 'u',\n",
       " 'ua',\n",
       " 'ue',\n",
       " 'ui',\n",
       " 'uie'}"
      ]
     },
     "execution_count": 44,
     "metadata": {},
     "output_type": "execute_result"
    }
   ],
   "source": [
    "set([v for w in vocab \n",
    "       for v in re.findall(r'[aeiou]+',w.lower())])"
   ]
  },
  {
   "cell_type": "code",
   "execution_count": 47,
   "metadata": {},
   "outputs": [
    {
     "data": {
      "image/png": "[encoded data removed]",
      "text/plain": [
       "<matplotlib.figure.Figure at 0x117362be0>"
      ]
     },
     "metadata": {},
     "output_type": "display_data"
    }
   ],
   "source": [
    "fd = nltk.FreqDist([v for w in vocab \n",
    "       for v in re.findall(r'[aeiou]+',w.lower())])\n",
    "fd.plot()"
   ]
  },
  {
   "cell_type": "code",
   "execution_count": 48,
   "metadata": {},
   "outputs": [
    {
     "name": "stdout",
     "output_type": "stream",
     "text": [
      "  e   a   i   o   u  ea  ou  io  ee  oo  ai  ie  ue  oa  oi  au  ui  ua iou  ia  ei  oe eau uie  eo \n",
      "422 250 210 197  81  45  34  33  28  24  22   9   8   8   7   6   6   4   3   3   2   2   1   1   1 \n"
     ]
    }
   ],
   "source": [
    "fd.tabulate()"
   ]
  },
  {
   "cell_type": "code",
   "execution_count": 49,
   "metadata": {
    "collapsed": true
   },
   "outputs": [],
   "source": [
    "treebank_text = nltk.Text(treebank.words())"
   ]
  },
  {
   "cell_type": "code",
   "execution_count": null,
   "metadata": {
    "collapsed": true
   },
   "outputs": [],
   "source": [
    "treebank_text.findall(r'<.*th>')"
   ]
  }
 ],
 "metadata": {
  "kernelspec": {
   "display_name": "Python 3",
   "language": "python",
   "name": "python3"
  },
  "language_info": {
   "codemirror_mode": {
    "name": "ipython",
    "version": 3
   },
   "file_extension": ".py",
   "mimetype": "text/x-python",
   "name": "python",
   "nbconvert_exporter": "python",
   "pygments_lexer": "ipython3",
   "version": "3.6.1"
  }
 },
 "nbformat": 4,
 "nbformat_minor": 2
}
