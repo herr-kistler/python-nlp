{
 "cells": [
  {
   "cell_type": "markdown",
   "metadata": {},
   "source": [
    "## Numpy review"
   ]
  },
  {
   "cell_type": "markdown",
   "metadata": {},
   "source": [
    "## 1 Preliminaries"
   ]
  },
  {
   "cell_type": "code",
   "execution_count": 2,
   "metadata": {
    "collapsed": true
   },
   "outputs": [],
   "source": [
    "# The usual preamble\n",
    "import numpy as np"
   ]
  },
  {
   "cell_type": "markdown",
   "metadata": {},
   "source": [
    "## Numpy"
   ]
  },
  {
   "cell_type": "code",
   "execution_count": 3,
   "metadata": {
    "collapsed": true
   },
   "outputs": [],
   "source": [
    "import numpy as np\n",
    "x = np.array([2,3,1,0])\n",
    "y =np.arange(10)\n",
    "z = 2 + x"
   ]
  },
  {
   "cell_type": "markdown",
   "metadata": {},
   "source": [
    "Write expressions in the next cell to retrieve 1 from `x`, 3 from `y`, and 3 from `z`."
   ]
  },
  {
   "cell_type": "code",
   "execution_count": 4,
   "metadata": {},
   "outputs": [
    {
     "name": "stdout",
     "output_type": "stream",
     "text": [
      "1\n",
      "3\n",
      "3\n"
     ]
    }
   ],
   "source": [
    "print x.item(2)\n",
    "print y.item(3)\n",
    "print z.item(2)"
   ]
  },
  {
   "cell_type": "markdown",
   "metadata": {},
   "source": [
    "In the next cell, write an expression that generates a 5 by 5 array filled with zeros, and another  that generates a 1 by 1 array with a 1 in it."
   ]
  },
  {
   "cell_type": "code",
   "execution_count": 5,
   "metadata": {},
   "outputs": [
    {
     "name": "stdout",
     "output_type": "stream",
     "text": [
      "[[ 0.  0.  0.  0.  0.]\n",
      " [ 0.  0.  0.  0.  0.]\n",
      " [ 0.  0.  0.  0.  0.]\n",
      " [ 0.  0.  0.  0.  0.]\n",
      " [ 0.  0.  0.  0.  0.]]\n",
      "[ 1.]\n"
     ]
    }
   ],
   "source": [
    "zerosarray = np.zeros((5,5))\n",
    "print zerosarray\n",
    "onesarray = np.ones(1)\n",
    "print onesarray"
   ]
  },
  {
   "cell_type": "markdown",
   "metadata": {},
   "source": [
    "<style>\n",
    "    @font-face {\n",
    "        font-family: \"Computer Modern\";\n",
    "        src: url('http://mirrors.ctan.org/fonts/cm-unicode/fonts/otf/cmunss.otf');\n",
    "    }\n",
    "    div.cell{\n",
    "        width:800px;\n",
    "        margin-left:16% !important;\n",
    "        margin-right:auto;\n",
    "    }\n",
    "    h1 {\n",
    "        font-family: Helvetica, serif;\n",
    "    }\n",
    "    h4{\n",
    "        margin-top:12px;\n",
    "        margin-bottom: 3px;\n",
    "       }\n",
    "    div.text_cell_render{\n",
    "        font-family: Computer Modern, \"Helvetica Neue\", Arial, Helvetica, Geneva, sans-serif;\n",
    "        line-height: 145%;\n",
    "        font-size: 130%;\n",
    "        width:800px;\n",
    "        margin-left:auto;\n",
    "        margin-right:auto;\n",
    "    }\n",
    "    .CodeMirror{\n",
    "            font-family: \"Source Code Pro\", source-code-pro,Consolas, monospace;\n",
    "    }\n",
    "    .text_cell_render h5 {\n",
    "        font-weight: 300;\n",
    "        font-size: 22pt;\n",
    "        color: #4057A1;\n",
    "        font-style: italic;\n",
    "        margin-bottom: .5em;\n",
    "        margin-top: 0.5em;\n",
    "        display: block;\n",
    "    }\n",
    "    \n",
    "    .warning{\n",
    "        color: rgb( 240, 20, 20 )\n",
    "        }  "
   ]
  },
  {
   "cell_type": "markdown",
   "metadata": {},
   "source": [
    "In the next cell, write an expression that uses an assignment to a splice to make all the negative values in `a` be 0.  Attention: This can be done more easily in numpy than it can in normal Python.  See if you can do it the easy way."
   ]
  },
  {
   "cell_type": "code",
   "execution_count": 6,
   "metadata": {},
   "outputs": [
    {
     "data": {
      "text/plain": [
       "array([7, 6, 5, 4, 3, 2, 1, 0, 0, 0, 0])"
      ]
     },
     "execution_count": 6,
     "metadata": {},
     "output_type": "execute_result"
    }
   ],
   "source": [
    "a = np.arange(10,-1,-1) - 3\n",
    "a.clip(0)"
   ]
  },
  {
   "cell_type": "markdown",
   "metadata": {},
   "source": [
    "In the next cell write an expression that produces an array containing result of multiplying 7 by each of the first 12 integers (1 - 12). There's a hard way to do this and an easy way.  The easy way uses elementwise operations."
   ]
  },
  {
   "cell_type": "code",
   "execution_count": 7,
   "metadata": {},
   "outputs": [
    {
     "data": {
      "text/plain": [
       "array([ 7, 14, 21, 28, 35, 42, 49, 56, 63, 70, 77, 84])"
      ]
     },
     "execution_count": 7,
     "metadata": {},
     "output_type": "execute_result"
    }
   ],
   "source": [
    "m = np.arange(1,13)\n",
    "7*m"
   ]
  },
  {
   "cell_type": "markdown",
   "metadata": {},
   "source": [
    "## 2D arrays"
   ]
  },
  {
   "cell_type": "code",
   "execution_count": 8,
   "metadata": {
    "collapsed": true
   },
   "outputs": [],
   "source": [
    "import numpy as np\n",
    "room_matrix = \\\n",
    "np.array(\n",
    "[[6,  3, 4, 1],\n",
    "[5,  2, 3, 2],\n",
    "[8,  3, 6, 2],\n",
    "[5,  1, 3, 1],\n",
    "[10, 4, 7, 2]])\n",
    "\n",
    "cost_vector = np.array([40, 175, 90, 450])"
   ]
  },
  {
   "cell_type": "markdown",
   "metadata": {},
   "source": [
    "In the next cell write an express that retrieves the last column of `room_matrix`."
   ]
  },
  {
   "cell_type": "code",
   "execution_count": 9,
   "metadata": {},
   "outputs": [
    {
     "data": {
      "text/plain": [
       "array([[1],\n",
       "       [2],\n",
       "       [2],\n",
       "       [1],\n",
       "       [2]])"
      ]
     },
     "execution_count": 9,
     "metadata": {},
     "output_type": "execute_result"
    }
   ],
   "source": [
    "np.compress([False, False, False, True], room_matrix, axis = 1)"
   ]
  },
  {
   "cell_type": "markdown",
   "metadata": {},
   "source": [
    "In the next cell, write an expression that retrieves the third row of `room_matrix`."
   ]
  },
  {
   "cell_type": "code",
   "execution_count": 26,
   "metadata": {},
   "outputs": [
    {
     "data": {
      "text/plain": [
       "array([[8, 3, 6, 2]])"
      ]
     },
     "execution_count": 26,
     "metadata": {},
     "output_type": "execute_result"
    }
   ],
   "source": [
    "np.compress([0, 0, 1], room_matrix, axis = 0)"
   ]
  },
  {
   "cell_type": "markdown",
   "metadata": {},
   "source": [
    "In the next cell write an expression that retrieves the first two elements of the second column of `room_matrix`"
   ]
  },
  {
   "cell_type": "code",
   "execution_count": 45,
   "metadata": {},
   "outputs": [
    {
     "name": "stdout",
     "output_type": "stream",
     "text": [
      "[[3]\n",
      " [2]]\n"
     ]
    }
   ],
   "source": [
    "a = np.compress([0, 1], room_matrix, axis = 1)\n",
    "print a[:2]"
   ]
  },
  {
   "cell_type": "markdown",
   "metadata": {},
   "source": [
    "In the next cell write an expression that retrieves the following submatrix from `room_matrix`:\n",
    "\n",
    "```\n",
    "array([[2,3],\n",
    "       [3,6]])\n",
    "```"
   ]
  },
  {
   "cell_type": "code",
   "execution_count": 64,
   "metadata": {},
   "outputs": [
    {
     "name": "stdout",
     "output_type": "stream",
     "text": [
      "[[2 3]\n",
      " [3 6]]\n"
     ]
    }
   ],
   "source": [
    "s = np.array(room_matrix)\n",
    "print s[[1, 2], :][:, [1,2]]"
   ]
  },
  {
   "cell_type": "markdown",
   "metadata": {},
   "source": [
    "In the next cell, write an expression that returns a Boolean array that identifies the members of `room_matrix` which are greater than or equal to 7."
   ]
  },
  {
   "cell_type": "code",
   "execution_count": 65,
   "metadata": {},
   "outputs": [
    {
     "name": "stdout",
     "output_type": "stream",
     "text": [
      "[[False False False False]\n",
      " [False False False False]\n",
      " [ True False False False]\n",
      " [False False False False]\n",
      " [ True False  True False]]\n"
     ]
    }
   ],
   "source": [
    "print (7 <= np.array(room_matrix))"
   ]
  },
  {
   "cell_type": "markdown",
   "metadata": {},
   "source": [
    "## Iris data exercise"
   ]
  },
  {
   "cell_type": "markdown",
   "metadata": {},
   "source": [
    "In the next cell, use a Boolean mask to return all the rows of the iris data set whose column 3 value is greater than 1.8 (I mean the column whose **index** is 3, the last column).\n",
    "The cell is not empty because you have been provided with the code which loads the data.\n",
    "So you should keep that code and **add to it**."
   ]
  },
  {
   "cell_type": "code",
   "execution_count": 96,
   "metadata": {},
   "outputs": [
    {
     "name": "stdout",
     "output_type": "stream",
     "text": [
      "[[ 6.3  3.3  6.   2.5]\n",
      " [ 5.8  2.7  5.1  1.9]\n",
      " [ 7.1  3.   5.9  2.1]\n",
      " [ 6.5  3.   5.8  2.2]\n",
      " [ 7.6  3.   6.6  2.1]\n",
      " [ 7.2  3.6  6.1  2.5]\n",
      " [ 6.5  3.2  5.1  2. ]\n",
      " [ 6.4  2.7  5.3  1.9]\n",
      " [ 6.8  3.   5.5  2.1]\n",
      " [ 5.7  2.5  5.   2. ]\n",
      " [ 5.8  2.8  5.1  2.4]\n",
      " [ 6.4  3.2  5.3  2.3]\n",
      " [ 7.7  3.8  6.7  2.2]\n",
      " [ 7.7  2.6  6.9  2.3]\n",
      " [ 6.9  3.2  5.7  2.3]\n",
      " [ 5.6  2.8  4.9  2. ]\n",
      " [ 7.7  2.8  6.7  2. ]\n",
      " [ 6.7  3.3  5.7  2.1]\n",
      " [ 6.4  2.8  5.6  2.1]\n",
      " [ 7.4  2.8  6.1  1.9]\n",
      " [ 7.9  3.8  6.4  2. ]\n",
      " [ 6.4  2.8  5.6  2.2]\n",
      " [ 7.7  3.   6.1  2.3]\n",
      " [ 6.3  3.4  5.6  2.4]\n",
      " [ 6.9  3.1  5.4  2.1]\n",
      " [ 6.7  3.1  5.6  2.4]\n",
      " [ 6.9  3.1  5.1  2.3]\n",
      " [ 5.8  2.7  5.1  1.9]\n",
      " [ 6.8  3.2  5.9  2.3]\n",
      " [ 6.7  3.3  5.7  2.5]\n",
      " [ 6.7  3.   5.2  2.3]\n",
      " [ 6.3  2.5  5.   1.9]\n",
      " [ 6.5  3.   5.2  2. ]\n",
      " [ 6.2  3.4  5.4  2.3]]\n"
     ]
    }
   ],
   "source": [
    "from sklearn.datasets import load_iris\n",
    "data = load_iris()\n",
    "features = data['data']\n",
    "target = data['target']\n",
    "f = features[features[:, 3] > 1.8]\n",
    "print f"
   ]
  },
  {
   "cell_type": "markdown",
   "metadata": {},
   "source": [
    "In the next cell, use a Boolean mask to return all the members of class 2 in the iris data set."
   ]
  },
  {
   "cell_type": "code",
   "execution_count": 105,
   "metadata": {},
   "outputs": [
    {
     "name": "stdout",
     "output_type": "stream",
     "text": [
      "[[ 6.3  3.3  6.   2.5]\n",
      " [ 5.8  2.7  5.1  1.9]\n",
      " [ 7.1  3.   5.9  2.1]\n",
      " [ 6.3  2.9  5.6  1.8]\n",
      " [ 6.5  3.   5.8  2.2]\n",
      " [ 7.6  3.   6.6  2.1]\n",
      " [ 4.9  2.5  4.5  1.7]\n",
      " [ 7.3  2.9  6.3  1.8]\n",
      " [ 6.7  2.5  5.8  1.8]\n",
      " [ 7.2  3.6  6.1  2.5]\n",
      " [ 6.5  3.2  5.1  2. ]\n",
      " [ 6.4  2.7  5.3  1.9]\n",
      " [ 6.8  3.   5.5  2.1]\n",
      " [ 5.7  2.5  5.   2. ]\n",
      " [ 5.8  2.8  5.1  2.4]\n",
      " [ 6.4  3.2  5.3  2.3]\n",
      " [ 6.5  3.   5.5  1.8]\n",
      " [ 7.7  3.8  6.7  2.2]\n",
      " [ 7.7  2.6  6.9  2.3]\n",
      " [ 6.   2.2  5.   1.5]\n",
      " [ 6.9  3.2  5.7  2.3]\n",
      " [ 5.6  2.8  4.9  2. ]\n",
      " [ 7.7  2.8  6.7  2. ]\n",
      " [ 6.3  2.7  4.9  1.8]\n",
      " [ 6.7  3.3  5.7  2.1]\n",
      " [ 7.2  3.2  6.   1.8]\n",
      " [ 6.2  2.8  4.8  1.8]\n",
      " [ 6.1  3.   4.9  1.8]\n",
      " [ 6.4  2.8  5.6  2.1]\n",
      " [ 7.2  3.   5.8  1.6]\n",
      " [ 7.4  2.8  6.1  1.9]\n",
      " [ 7.9  3.8  6.4  2. ]\n",
      " [ 6.4  2.8  5.6  2.2]\n",
      " [ 6.3  2.8  5.1  1.5]\n",
      " [ 6.1  2.6  5.6  1.4]\n",
      " [ 7.7  3.   6.1  2.3]\n",
      " [ 6.3  3.4  5.6  2.4]\n",
      " [ 6.4  3.1  5.5  1.8]\n",
      " [ 6.   3.   4.8  1.8]\n",
      " [ 6.9  3.1  5.4  2.1]\n",
      " [ 6.7  3.1  5.6  2.4]\n",
      " [ 6.9  3.1  5.1  2.3]\n",
      " [ 5.8  2.7  5.1  1.9]\n",
      " [ 6.8  3.2  5.9  2.3]\n",
      " [ 6.7  3.3  5.7  2.5]\n",
      " [ 6.7  3.   5.2  2.3]\n",
      " [ 6.3  2.5  5.   1.9]\n",
      " [ 6.5  3.   5.2  2. ]\n",
      " [ 6.2  3.4  5.4  2.3]\n",
      " [ 5.9  3.   5.1  1.8]]\n"
     ]
    }
   ],
   "source": [
    "c2 = features[target == 2, :]\n",
    "print c2"
   ]
  },
  {
   "cell_type": "markdown",
   "metadata": {},
   "source": [
    "Extra credit:  In the next cell write an expression -- or expressions -- which returns\n",
    "all the members of class 2 in the data whose column 3 value is greater than 1.8.\n",
    "\n",
    "Hint: Set a variable to the store the result of one of your answers to the last two questions.\n",
    "That result is an array, and you can do more indexing on it."
   ]
  },
  {
   "cell_type": "code",
   "execution_count": 106,
   "metadata": {},
   "outputs": [
    {
     "data": {
      "text/plain": [
       "array([[ 6.3,  3.3,  6. ,  2.5],\n",
       "       [ 5.8,  2.7,  5.1,  1.9],\n",
       "       [ 7.1,  3. ,  5.9,  2.1],\n",
       "       [ 6.5,  3. ,  5.8,  2.2],\n",
       "       [ 7.6,  3. ,  6.6,  2.1],\n",
       "       [ 7.2,  3.6,  6.1,  2.5],\n",
       "       [ 6.5,  3.2,  5.1,  2. ],\n",
       "       [ 6.4,  2.7,  5.3,  1.9],\n",
       "       [ 6.8,  3. ,  5.5,  2.1],\n",
       "       [ 5.7,  2.5,  5. ,  2. ],\n",
       "       [ 5.8,  2.8,  5.1,  2.4],\n",
       "       [ 6.4,  3.2,  5.3,  2.3],\n",
       "       [ 7.7,  3.8,  6.7,  2.2],\n",
       "       [ 7.7,  2.6,  6.9,  2.3],\n",
       "       [ 6.9,  3.2,  5.7,  2.3],\n",
       "       [ 5.6,  2.8,  4.9,  2. ],\n",
       "       [ 7.7,  2.8,  6.7,  2. ],\n",
       "       [ 6.7,  3.3,  5.7,  2.1],\n",
       "       [ 6.4,  2.8,  5.6,  2.1],\n",
       "       [ 7.4,  2.8,  6.1,  1.9],\n",
       "       [ 7.9,  3.8,  6.4,  2. ],\n",
       "       [ 6.4,  2.8,  5.6,  2.2],\n",
       "       [ 7.7,  3. ,  6.1,  2.3],\n",
       "       [ 6.3,  3.4,  5.6,  2.4],\n",
       "       [ 6.9,  3.1,  5.4,  2.1],\n",
       "       [ 6.7,  3.1,  5.6,  2.4],\n",
       "       [ 6.9,  3.1,  5.1,  2.3],\n",
       "       [ 5.8,  2.7,  5.1,  1.9],\n",
       "       [ 6.8,  3.2,  5.9,  2.3],\n",
       "       [ 6.7,  3.3,  5.7,  2.5],\n",
       "       [ 6.7,  3. ,  5.2,  2.3],\n",
       "       [ 6.3,  2.5,  5. ,  1.9],\n",
       "       [ 6.5,  3. ,  5.2,  2. ],\n",
       "       [ 6.2,  3.4,  5.4,  2.3]])"
      ]
     },
     "execution_count": 106,
     "metadata": {},
     "output_type": "execute_result"
    }
   ],
   "source": [
    "c2[c2[:, 3] > 1.8]"
   ]
  },
  {
   "cell_type": "markdown",
   "metadata": {},
   "source": [
    "## Boston Housing data exercise (UCI ML housing dataset)"
   ]
  },
  {
   "cell_type": "code",
   "execution_count": 107,
   "metadata": {},
   "outputs": [
    {
     "name": "stdout",
     "output_type": "stream",
     "text": [
      "(506, 13) (506,)\n"
     ]
    }
   ],
   "source": [
    "from sklearn import datasets\n",
    "boston = datasets.load_boston()\n",
    "X,Y = boston.data,boston.target\n",
    "print X.shape, Y.shape"
   ]
  },
  {
   "cell_type": "markdown",
   "metadata": {},
   "source": [
    "The cell above loads the `sklearn` Boston housing data, which contains information about housing prices\n",
    "for 501 houses sold in Boston, and the values of various attributes which have been found to be useful\n",
    "in predicting home prices:\n",
    "\n",
    "```\n",
    "Index\n",
    "0         - CRIM     per capita crime rate by town\n",
    "1         - ZN       proportion of residential land zoned for lots over 25,000 sq.ft.\n",
    "2         - INDUS    proportion of non-retail business acres per town\n",
    "3         - CHAS     Charles River dummy variable (= 1 if tract bounds river; 0 otherwise)\n",
    "4         - NOX      nitric oxides concentration (parts per 10 million)\n",
    "5         - RM       average number of rooms per dwelling\n",
    "6         - AGE      proportion of owner-occupied units built prior to 1940\n",
    "7         - DIS      weighted distances to five Boston employment centres\n",
    "8         - RAD      index of accessibility to radial highways\n",
    "9         - TAX      full-value property-tax rate per $10,000\n",
    "10        - PTRATIO  pupil-teacher ratio by town\n",
    "11        - B        1000(Bk - 0.63)^2 where Bk is the proportion of blacks by town\n",
    "12        - LSTAT    % lower status of the population\n",
    "```\n",
    "\n",
    "The array `X`, defined in the cell above, is a 501x13 array containing the values of all\n",
    "these variables for 501 Boston houses.  \n",
    "\n",
    "The information stored in Y, the value to be predicted is\n",
    "\n",
    "```\n",
    "       - MEDV     Median value of owner-occupied homes in $1000's\n",
    " \n",
    "```\n",
    "\n",
    "1.  Construct an expression or expressions that creates a new table that omits all houses whose tracts\n",
    "    bound the Charles River.\n",
    "2.  Construct an expression or expressions that creates a new table containing only the CRIM column and\n",
    "    the ZN column.  This is  our new X.  Also create a new Y containing the pupil-teach ratio.\n",
    "    This is to help someone research how to predict poor education conditions.  The shape of the new X should\n",
    "    (506,2) and the shape of the new Y should be (506,).  Show that you checked this in your answer."
   ]
  },
  {
   "cell_type": "code",
   "execution_count": 110,
   "metadata": {},
   "outputs": [
    {
     "name": "stdout",
     "output_type": "stream",
     "text": [
      "[[  6.32000000e-03   1.80000000e+01   2.31000000e+00 ...,   1.53000000e+01\n",
      "    3.96900000e+02   4.98000000e+00]\n",
      " [  2.73100000e-02   0.00000000e+00   7.07000000e+00 ...,   1.78000000e+01\n",
      "    3.96900000e+02   9.14000000e+00]\n",
      " [  2.72900000e-02   0.00000000e+00   7.07000000e+00 ...,   1.78000000e+01\n",
      "    3.92830000e+02   4.03000000e+00]\n",
      " ..., \n",
      " [  6.07600000e-02   0.00000000e+00   1.19300000e+01 ...,   2.10000000e+01\n",
      "    3.96900000e+02   5.64000000e+00]\n",
      " [  1.09590000e-01   0.00000000e+00   1.19300000e+01 ...,   2.10000000e+01\n",
      "    3.93450000e+02   6.48000000e+00]\n",
      " [  4.74100000e-02   0.00000000e+00   1.19300000e+01 ...,   2.10000000e+01\n",
      "    3.96900000e+02   7.88000000e+00]]\n"
     ]
    }
   ],
   "source": [
    "CRomit = X[X[:, 3] == 0]\n",
    "print CRomit"
   ]
  },
  {
   "cell_type": "code",
   "execution_count": 115,
   "metadata": {},
   "outputs": [
    {
     "name": "stdout",
     "output_type": "stream",
     "text": [
      "(506, 2) (506,)\n",
      "[[  6.32000000e-03   1.80000000e+01]\n",
      " [  2.73100000e-02   0.00000000e+00]\n",
      " [  2.72900000e-02   0.00000000e+00]\n",
      " ..., \n",
      " [  6.07600000e-02   0.00000000e+00]\n",
      " [  1.09590000e-01   0.00000000e+00]\n",
      " [  4.74100000e-02   0.00000000e+00]] [ 15.3  17.8  17.8  18.7  18.7  18.7  15.2  15.2  15.2  15.2  15.2  15.2\n",
      "  15.2  21.   21.   21.   21.   21.   21.   21.   21.   21.   21.   21.\n",
      "  21.   21.   21.   21.   21.   21.   21.   21.   21.   21.   21.   19.2\n",
      "  19.2  19.2  19.2  18.3  18.3  17.9  17.9  17.9  17.9  17.9  17.9  17.9\n",
      "  17.9  17.9  16.8  16.8  16.8  16.8  21.1  17.9  17.3  15.1  19.7  19.7\n",
      "  19.7  19.7  19.7  19.7  18.6  16.1  16.1  18.9  18.9  18.9  19.2  19.2\n",
      "  19.2  19.2  18.7  18.7  18.7  18.7  18.7  18.7  19.   19.   19.   19.\n",
      "  18.5  18.5  18.5  18.5  17.8  17.8  17.8  17.8  18.2  18.2  18.2  18.\n",
      "  18.   18.   18.   18.   20.9  20.9  20.9  20.9  20.9  20.9  20.9  20.9\n",
      "  20.9  20.9  20.9  17.8  17.8  17.8  17.8  17.8  17.8  17.8  17.8  17.8\n",
      "  19.1  19.1  19.1  19.1  19.1  19.1  19.1  21.2  21.2  21.2  21.2  21.2\n",
      "  21.2  21.2  21.2  21.2  21.2  21.2  21.2  21.2  21.2  21.2  14.7  14.7\n",
      "  14.7  14.7  14.7  14.7  14.7  14.7  14.7  14.7  14.7  14.7  14.7  14.7\n",
      "  14.7  14.7  14.7  14.7  14.7  14.7  14.7  14.7  14.7  14.7  14.7  14.7\n",
      "  14.7  14.7  14.7  14.7  16.6  16.6  16.6  16.6  16.6  16.6  16.6  17.8\n",
      "  17.8  17.8  17.8  17.8  17.8  17.8  17.8  15.2  15.2  15.2  15.2  15.2\n",
      "  15.2  15.6  15.6  14.4  12.6  12.6  12.6  17.   17.   14.7  14.7  14.7\n",
      "  14.7  18.6  18.6  18.6  18.6  18.6  18.6  18.6  18.6  18.6  18.6  18.6\n",
      "  16.4  16.4  16.4  16.4  17.4  17.4  17.4  17.4  17.4  17.4  17.4  17.4\n",
      "  17.4  17.4  17.4  17.4  17.4  17.4  17.4  17.4  17.4  17.4  16.6  16.6\n",
      "  16.6  16.6  16.6  16.6  19.1  19.1  19.1  19.1  19.1  19.1  19.1  19.1\n",
      "  19.1  19.1  16.4  16.4  15.9  13.   13.   13.   13.   13.   13.   13.\n",
      "  13.   13.   13.   13.   13.   18.6  18.6  18.6  18.6  18.6  17.6  17.6\n",
      "  17.6  17.6  17.6  14.9  14.9  14.9  14.9  13.6  15.3  15.3  18.2  16.6\n",
      "  16.6  16.6  19.2  19.2  19.2  16.   16.   16.   16.   16.   14.8  14.8\n",
      "  14.8  16.1  16.1  16.1  18.4  18.4  18.4  18.4  18.4  18.4  18.4  18.4\n",
      "  18.4  18.4  18.4  18.4  18.4  18.4  18.4  18.4  19.6  19.6  19.6  19.6\n",
      "  19.6  19.6  19.6  19.6  16.9  16.9  16.9  16.9  16.9  20.2  20.2  20.2\n",
      "  20.2  20.2  20.2  20.2  20.2  15.5  15.9  17.6  17.6  18.8  18.8  17.9\n",
      "  17.   19.7  19.7  18.3  18.3  17.   22.   22.   20.2  20.2  20.2  20.2\n",
      "  20.2  20.2  20.2  20.2  20.2  20.2  20.2  20.2  20.2  20.2  20.2  20.2\n",
      "  20.2  20.2  20.2  20.2  20.2  20.2  20.2  20.2  20.2  20.2  20.2  20.2\n",
      "  20.2  20.2  20.2  20.2  20.2  20.2  20.2  20.2  20.2  20.2  20.2  20.2\n",
      "  20.2  20.2  20.2  20.2  20.2  20.2  20.2  20.2  20.2  20.2  20.2  20.2\n",
      "  20.2  20.2  20.2  20.2  20.2  20.2  20.2  20.2  20.2  20.2  20.2  20.2\n",
      "  20.2  20.2  20.2  20.2  20.2  20.2  20.2  20.2  20.2  20.2  20.2  20.2\n",
      "  20.2  20.2  20.2  20.2  20.2  20.2  20.2  20.2  20.2  20.2  20.2  20.2\n",
      "  20.2  20.2  20.2  20.2  20.2  20.2  20.2  20.2  20.2  20.2  20.2  20.2\n",
      "  20.2  20.2  20.2  20.2  20.2  20.2  20.2  20.2  20.2  20.2  20.2  20.2\n",
      "  20.2  20.2  20.2  20.2  20.2  20.2  20.2  20.2  20.2  20.2  20.2  20.2\n",
      "  20.2  20.2  20.2  20.2  20.2  20.2  20.2  20.2  20.1  20.1  20.1  20.1\n",
      "  20.1  19.2  19.2  19.2  19.2  19.2  19.2  19.2  19.2  21.   21.   21.\n",
      "  21.   21. ]\n"
     ]
    }
   ],
   "source": [
    "X = X[:, :2]\n",
    "Y = boston.data[:, 10]\n",
    "print X.shape, Y.shape\n",
    "print X,Y"
   ]
  },
  {
   "cell_type": "code",
   "execution_count": null,
   "metadata": {
    "collapsed": true
   },
   "outputs": [],
   "source": []
  }
 ],
 "metadata": {
  "kernelspec": {
   "display_name": "Python 3",
   "language": "python",
   "name": "python3"
  },
  "language_info": {
   "codemirror_mode": {
    "name": "ipython",
    "version": 3
   },
   "file_extension": ".py",
   "mimetype": "text/x-python",
   "name": "python",
   "nbconvert_exporter": "python",
   "pygments_lexer": "ipython3",
   "version": "3.6.5"
  },
  "name": "_merged"
 },
 "nbformat": 4,
 "nbformat_minor": 1
}
